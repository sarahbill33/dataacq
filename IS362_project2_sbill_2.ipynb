{
 "cells": [
  {
   "cell_type": "markdown",
   "id": "04e2c93d",
   "metadata": {},
   "source": [
    "# Project 2: Cleaning and Transforming Data for Analysis\n",
    "## For 3 data sets chosen from the week 5 discussion forum:\n",
    "1. Create a .csv file\n",
    "2. Use pandas to read the file and tidy it\n",
    "3. Perform the analysis suggested in the discussion post"
   ]
  },
  {
   "cell_type": "markdown",
   "id": "5762615f",
   "metadata": {},
   "source": [
    "## Data Set 2: Starbucks caffeine content\n",
    "This was my data set that I posted in the discussion forum. I want to look at caffeine content by drink category.\n",
    "\n",
    "First, I will import the file and look at the first few rows."
   ]
  },
  {
   "cell_type": "code",
   "execution_count": 1,
   "id": "a2b11d69",
   "metadata": {},
   "outputs": [
    {
     "name": "stdout",
     "output_type": "stream",
     "text": [
      "                         Short (8 fl oz) Tall (12 fl oz) Grande (16 fl oz)  \\\n",
      "Beverage                                                                     \n",
      "Pike Place Brewed Coffee          155 mg          235 mg            310 mg   \n",
      "Blonde Roast                      180 mg          270 mg            360 mg   \n",
      "Featured Dark Roast               130 mg          195 mg            260 mg   \n",
      "Clover® Brewed Coffees                 –               –                 –   \n",
      "-Reserve roasts                   190 mg          280 mg            380 mg   \n",
      "\n",
      "                         Venti (20 fl oz)  \n",
      "Beverage                                   \n",
      "Pike Place Brewed Coffee           410 mg  \n",
      "Blonde Roast                       475 mg  \n",
      "Featured Dark Roast                340 mg  \n",
      "Clover® Brewed Coffees                  –  \n",
      "-Reserve roasts                    470 mg  \n"
     ]
    }
   ],
   "source": [
    "import pandas as pd\n",
    "import numpy as np\n",
    "\n",
    "url = 'https://github.com/sarahbill33/dataacq/blob/main/starbucks_caffeine%20-%20Sheet1.csv?raw=true'\n",
    "caffeine = pd.read_csv(url, skipinitialspace=True, index_col=0)\n",
    "\n",
    "print(caffeine.head(5))"
   ]
  },
  {
   "cell_type": "markdown",
   "id": "01fb2172",
   "metadata": {},
   "source": [
    "I notice a couple of things right away that I learned working with the first dataset:\n",
    "- the dataset is wide and needs to be transformed to a long dataset\n",
    "- the values in the rows have blanks, and are also strings instead of numbers\n",
    "\n",
    "I will start by converting values. I will take the approach of looking at the values first and then determining how to replace them with numbers."
   ]
  },
  {
   "cell_type": "code",
   "execution_count": 2,
   "id": "78d2620f",
   "metadata": {},
   "outputs": [
    {
     "data": {
      "text/plain": [
       "array(['155 mg', '180 mg', '130 mg', '–', '190 mg', '170 mg', '15 mg',\n",
       "       '75 mg', '85 mg', '135 mg', '150 mg', '90 mg', '95 mg', nan,\n",
       "       '25 mg', '50 mg', '40 mg', '0 mg', '0-15 mg', '15-25 mg'],\n",
       "      dtype=object)"
      ]
     },
     "execution_count": 2,
     "metadata": {},
     "output_type": "execute_result"
    }
   ],
   "source": [
    "caffeine['Short (8 fl oz)'].unique()"
   ]
  },
  {
   "cell_type": "code",
   "execution_count": 2,
   "id": "49644730",
   "metadata": {},
   "outputs": [
    {
     "name": "stdout",
     "output_type": "stream",
     "text": [
      "                         Short (8 fl oz) Tall (12 fl oz) Grande (16 fl oz)  \\\n",
      "Beverage                                                                     \n",
      "Pike Place Brewed Coffee             155             235               310   \n",
      "Blonde Roast                         180             270               360   \n",
      "Featured Dark Roast                  130             195               260   \n",
      "Clover® Brewed Coffees                                                       \n",
      "-Reserve roasts                      190             280               380   \n",
      "\n",
      "                         Venti (20 fl oz)  \n",
      "Beverage                                   \n",
      "Pike Place Brewed Coffee              410  \n",
      "Blonde Roast                          475  \n",
      "Featured Dark Roast                   340  \n",
      "Clover® Brewed Coffees                     \n",
      "-Reserve roasts                       470  \n"
     ]
    },
    {
     "name": "stderr",
     "output_type": "stream",
     "text": [
      "C:\\Users\\Sarah Bill\\AppData\\Local\\Temp\\ipykernel_11928\\3201161651.py:1: FutureWarning: The default value of regex will change from True to False in a future version.\n",
      "  caffeine['Short (8 fl oz)'] = caffeine['Short (8 fl oz)'].str.replace(r'\\D', '')\n",
      "C:\\Users\\Sarah Bill\\AppData\\Local\\Temp\\ipykernel_11928\\3201161651.py:2: FutureWarning: The default value of regex will change from True to False in a future version.\n",
      "  caffeine['Tall (12 fl oz)'] = caffeine['Tall (12 fl oz)'].str.replace(r'\\D', '')\n",
      "C:\\Users\\Sarah Bill\\AppData\\Local\\Temp\\ipykernel_11928\\3201161651.py:3: FutureWarning: The default value of regex will change from True to False in a future version.\n",
      "  caffeine['Grande (16 fl oz)'] = caffeine['Grande (16 fl oz)'].str.replace(r'\\D', '')\n",
      "C:\\Users\\Sarah Bill\\AppData\\Local\\Temp\\ipykernel_11928\\3201161651.py:4: FutureWarning: The default value of regex will change from True to False in a future version.\n",
      "  caffeine['Venti (20 fl oz)'] = caffeine['Venti (20 fl oz)'].str.replace(r'\\D', '')\n"
     ]
    }
   ],
   "source": [
    "caffeine['Short (8 fl oz)'] = caffeine['Short (8 fl oz)'].str.replace(r'\\D', '')\n",
    "caffeine['Tall (12 fl oz)'] = caffeine['Tall (12 fl oz)'].str.replace(r'\\D', '')\n",
    "caffeine['Grande (16 fl oz)'] = caffeine['Grande (16 fl oz)'].str.replace(r'\\D', '')\n",
    "caffeine['Venti (20 fl oz)'] = caffeine['Venti (20 fl oz)'].str.replace(r'\\D', '')\n",
    "\n",
    "print(caffeine.head(5))"
   ]
  },
  {
   "cell_type": "code",
   "execution_count": 3,
   "id": "4d5f339a",
   "metadata": {},
   "outputs": [
    {
     "name": "stdout",
     "output_type": "stream",
     "text": [
      "                         Short (8 fl oz) Tall (12 fl oz) Grande (16 fl oz)  \\\n",
      "Beverage                                                                     \n",
      "Pike Place Brewed Coffee             155             235               310   \n",
      "Blonde Roast                         180             270               360   \n",
      "Featured Dark Roast                  130             195               260   \n",
      "Clover® Brewed Coffees                 0               0                 0   \n",
      "-Reserve roasts                      190             280               380   \n",
      "\n",
      "                         Venti (20 fl oz)  \n",
      "Beverage                                   \n",
      "Pike Place Brewed Coffee              410  \n",
      "Blonde Roast                          475  \n",
      "Featured Dark Roast                   340  \n",
      "Clover® Brewed Coffees                  0  \n",
      "-Reserve roasts                       470  \n"
     ]
    }
   ],
   "source": [
    "caffeine['Short (8 fl oz)'] = caffeine['Short (8 fl oz)'].replace('', 0)\n",
    "caffeine['Tall (12 fl oz)'] = caffeine['Tall (12 fl oz)'].replace('', 0)\n",
    "caffeine['Grande (16 fl oz)'] = caffeine['Grande (16 fl oz)'].replace('', 0)\n",
    "caffeine['Venti (20 fl oz)'] = caffeine['Venti (20 fl oz)'].replace('', 0)\n",
    "\n",
    "print(caffeine.head(5))"
   ]
  },
  {
   "cell_type": "code",
   "execution_count": 4,
   "id": "af3332fa",
   "metadata": {},
   "outputs": [
    {
     "name": "stdout",
     "output_type": "stream",
     "text": [
      "                         Short (8 fl oz) Tall (12 fl oz) Grande (16 fl oz)  \\\n",
      "Beverage                                                                     \n",
      "Pike Place Brewed Coffee             155             235               310   \n",
      "Blonde Roast                         180             270               360   \n",
      "Featured Dark Roast                  130             195               260   \n",
      "Clover® Brewed Coffees                 0               0                 0   \n",
      "-Reserve roasts                      190             280               380   \n",
      "\n",
      "                         Venti (20 fl oz)              Beverage_col  \n",
      "Beverage                                                             \n",
      "Pike Place Brewed Coffee              410  Pike Place Brewed Coffee  \n",
      "Blonde Roast                          475              Blonde Roast  \n",
      "Featured Dark Roast                   340       Featured Dark Roast  \n",
      "Clover® Brewed Coffees                  0    Clover® Brewed Coffees  \n",
      "-Reserve roasts                       470           -Reserve roasts  \n"
     ]
    }
   ],
   "source": [
    "caffeine['Beverage_col'] = caffeine.index\n",
    "\n",
    "print(caffeine.head(5))"
   ]
  },
  {
   "cell_type": "code",
   "execution_count": 5,
   "id": "c8e5ca5f",
   "metadata": {},
   "outputs": [
    {
     "name": "stdout",
     "output_type": "stream",
     "text": [
      "               Beverage_col         variable value\n",
      "0  Pike Place Brewed Coffee  Short (8 fl oz)   155\n",
      "1              Blonde Roast  Short (8 fl oz)   180\n",
      "2       Featured Dark Roast  Short (8 fl oz)   130\n",
      "3    Clover® Brewed Coffees  Short (8 fl oz)     0\n",
      "4           -Reserve roasts  Short (8 fl oz)   190\n"
     ]
    }
   ],
   "source": [
    "caffeine2 = pd.melt(caffeine, id_vars='Beverage_col', value_vars=['Short (8 fl oz)', 'Tall (12 fl oz)', 'Grande (16 fl oz)', 'Venti (20 fl oz)'])\n",
    "\n",
    "print(caffeine2.head(5))"
   ]
  },
  {
   "cell_type": "code",
   "execution_count": 6,
   "id": "4fc6460e",
   "metadata": {},
   "outputs": [
    {
     "data": {
      "text/plain": [
       "array(['155', '180', '130', 0, '190', '170', '15', '75', '85', '135',\n",
       "       '150', '90', '95', nan, '25', '50', '40', '0', '015', '1525',\n",
       "       '235', '270', '195', '280', '255', '20', '100', '115', '70', '55',\n",
       "       '4045', '310', '360', '260', '380', '340', '375', '225', '315',\n",
       "       '175', '185', '80', '5060', '410', '475', '470', '425', '445',\n",
       "       '30', '300', '320', '265', '65', '120', '110'], dtype=object)"
      ]
     },
     "execution_count": 6,
     "metadata": {},
     "output_type": "execute_result"
    }
   ],
   "source": [
    "caffeine2.value.unique()"
   ]
  },
  {
   "cell_type": "code",
   "execution_count": 7,
   "id": "44902f1e",
   "metadata": {},
   "outputs": [
    {
     "data": {
      "text/plain": [
       "array(['155', '180', '130', 0, '190', '170', '15', '75', '85', '135',\n",
       "       '150', '90', '95', '25', '50', '40', '0', '015', '1525', '235',\n",
       "       '270', '195', '280', '255', '20', '100', '115', '70', '55', '4045',\n",
       "       '310', '360', '260', '380', '340', '375', '225', '315', '175',\n",
       "       '185', '80', '5060', '410', '475', '470', '425', '445', '30',\n",
       "       '300', '320', '265', '65', '120', '110'], dtype=object)"
      ]
     },
     "execution_count": 7,
     "metadata": {},
     "output_type": "execute_result"
    }
   ],
   "source": [
    "caffeine2['value'] = caffeine2.value.fillna(0)\n",
    "\n",
    "caffeine2.value.unique()"
   ]
  },
  {
   "cell_type": "code",
   "execution_count": 8,
   "id": "b43255f5",
   "metadata": {},
   "outputs": [
    {
     "data": {
      "text/plain": [
       "array([ 155,  180,  130,    0,  190,  170,   15,   75,   85,  135,  150,\n",
       "         90,   95,   25,   50,   40, 1525,  235,  270,  195,  280,  255,\n",
       "         20,  100,  115,   70,   55, 4045,  310,  360,  260,  380,  340,\n",
       "        375,  225,  315,  175,  185,   80, 5060,  410,  475,  470,  425,\n",
       "        445,   30,  300,  320,  265,   65,  120,  110])"
      ]
     },
     "execution_count": 8,
     "metadata": {},
     "output_type": "execute_result"
    }
   ],
   "source": [
    "caffeine2['value'] = caffeine2['value'].astype(str).astype(int)\n",
    "\n",
    "caffeine2.value.unique()"
   ]
  },
  {
   "cell_type": "code",
   "execution_count": 9,
   "id": "693d7ad5",
   "metadata": {},
   "outputs": [
    {
     "data": {
      "text/plain": [
       "variable\n",
       "Grande (16 fl oz)    5060\n",
       "Short (8 fl oz)      1525\n",
       "Tall (12 fl oz)      4045\n",
       "Venti (20 fl oz)     1525\n",
       "Name: value, dtype: int32"
      ]
     },
     "execution_count": 9,
     "metadata": {},
     "output_type": "execute_result"
    }
   ],
   "source": [
    "caffeine2.groupby('variable').value.max()"
   ]
  },
  {
   "cell_type": "code",
   "execution_count": 27,
   "id": "0a7e5961",
   "metadata": {},
   "outputs": [
    {
     "name": "stdout",
     "output_type": "stream",
     "text": [
      "The drink with the most caffeine in a short is \n",
      "['Teavana Jade Citrus Mint', 'Teavana Oprah Chai Brewed Tea']\n",
      "The drink with the most caffeine in a tall is \n",
      "['Starbucks Verismo']\n",
      "The drink with the most caffeine in a grande is \n",
      "['Starbucks Verismo']\n",
      "The drink with the most caffeine in a venti is \n",
      "['Teavana Emperor’s Cloud & Mist', 'Teavana Youthberry']\n"
     ]
    }
   ],
   "source": [
    "max_grande = caffeine2.query(\"`value` == 5060 and `variable` == 'Grande (16 fl oz)'\")['Beverage_col']\n",
    "max_short = caffeine2.query(\"`value` == 1525 and `variable` == 'Short (8 fl oz)'\")['Beverage_col']\n",
    "max_tall = caffeine2.query(\"`value` == 4045 and `variable` == 'Tall (12 fl oz)'\")['Beverage_col']\n",
    "max_venti = caffeine2.query(\"`value` == 1525 and `variable` == 'Venti (20 fl oz)'\")['Beverage_col']\n",
    "\n",
    "print('The drink with the most caffeine in a short is ') \n",
    "print(max_short.to_list())\n",
    "\n",
    "print('The drink with the most caffeine in a tall is ') \n",
    "print(max_tall.to_list())\n",
    "\n",
    "print('The drink with the most caffeine in a grande is ') \n",
    "print(max_grande.to_list())\n",
    "\n",
    "print('The drink with the most caffeine in a venti is ') \n",
    "print(max_venti.to_list())"
   ]
  },
  {
   "cell_type": "markdown",
   "id": "a171adfc",
   "metadata": {},
   "source": [
    "## I can see that the answer is:\n",
    "- Jade Citrus Mint and Oprah Chai teas have the most caffeine in a size short\n",
    "- Starbucks Verismo has the most caffeine in a tall\n",
    "- Starbucks Verismo has the most caffeine in a grande\n",
    "- Emperor's Cloud and Youthberry have the most caffeine in a venti\n",
    "\n",
    "It would be interesting to do further analysis where a column is added for 'caffeine per ounce' and then compared. Maybe another time!"
   ]
  }
 ],
 "metadata": {
  "kernelspec": {
   "display_name": "Python 3 (ipykernel)",
   "language": "python",
   "name": "python3"
  },
  "language_info": {
   "codemirror_mode": {
    "name": "ipython",
    "version": 3
   },
   "file_extension": ".py",
   "mimetype": "text/x-python",
   "name": "python",
   "nbconvert_exporter": "python",
   "pygments_lexer": "ipython3",
   "version": "3.9.12"
  }
 },
 "nbformat": 4,
 "nbformat_minor": 5
}
