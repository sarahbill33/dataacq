{
 "cells": [
  {
   "cell_type": "markdown",
   "id": "87723702",
   "metadata": {},
   "source": [
    "## Week 8 Assignment: Data Visualization\n",
    "### using matplotlib and seaborn graphics capabilities\n",
    "\n",
    "1. load data\n",
    "2. clean data by replacing '?' horsepower values with NaN and change to numeric values\n",
    "3. replace origin values: 1='USA' 2='Asia' 3='Europe' \n",
    "4. create bar chart for cylinder distribution\n",
    "5. create scatterplot for horsepower vs. weight\n",
    "6. ask and answer one additional question about data"
   ]
  },
  {
   "cell_type": "markdown",
   "id": "5712c6b7",
   "metadata": {},
   "source": [
    "First, I will load the data and make sure columns are labeled.\n",
    "\n",
    "I ended up inserting an index column using a simple function for the index values."
   ]
  },
  {
   "cell_type": "code",
   "execution_count": 1,
   "id": "b93e60dc",
   "metadata": {},
   "outputs": [
    {
     "name": "stdout",
     "output_type": "stream",
     "text": [
      "            mpg  cylinders  displacement horsepower  weight  acceleration  \\\n",
      "index_col                                                                   \n",
      "1          15.0          8         350.0      165.0  3693.0          11.5   \n",
      "2          18.0          8         318.0      150.0  3436.0          11.0   \n",
      "3          16.0          8         304.0      150.0  3433.0          12.0   \n",
      "4          17.0          8         302.0      140.0  3449.0          10.5   \n",
      "5          15.0          8         429.0      198.0  4341.0          10.0   \n",
      "...         ...        ...           ...        ...     ...           ...   \n",
      "393        27.0          4         140.0      86.00  2790.0          15.6   \n",
      "394        44.0          4          97.0      52.00  2130.0          24.6   \n",
      "395        32.0          4         135.0      84.00  2295.0          11.6   \n",
      "396        28.0          4         120.0      79.00  2625.0          18.6   \n",
      "397        31.0          4         119.0      82.00  2720.0          19.4   \n",
      "\n",
      "           model year  origin            car name  \n",
      "index_col                                          \n",
      "1                  70       1   buick skylark 320  \n",
      "2                  70       1  plymouth satellite  \n",
      "3                  70       1       amc rebel sst  \n",
      "4                  70       1         ford torino  \n",
      "5                  70       1    ford galaxie 500  \n",
      "...               ...     ...                 ...  \n",
      "393                82       1     ford mustang gl  \n",
      "394                82       2           vw pickup  \n",
      "395                82       1       dodge rampage  \n",
      "396                82       1         ford ranger  \n",
      "397                82       1          chevy s-10  \n",
      "\n",
      "[397 rows x 9 columns]\n"
     ]
    }
   ],
   "source": [
    "import pandas as pd\n",
    "import numpy as np\n",
    "import matplotlib.pyplot as plt\n",
    "import seaborn as sns\n",
    "\n",
    "url = 'https://github.com/sarahbill33/dataacq/blob/main/auto-mpg.data?raw=true'\n",
    "autompg = pd.read_csv(url, sep='\\s+', index_col=False)\n",
    "autompg.columns = ['mpg', 'cylinders', 'displacement', 'horsepower', 'weight', 'acceleration', 'model year', 'origin', 'car name']\n",
    "\n",
    "indexvalues = []\n",
    "\n",
    "def createIndex(x):\n",
    "    r = 1\n",
    "    while r < (len(x)+1):\n",
    "        indexvalues.append(r)\n",
    "        r = r+1\n",
    "\n",
    "createIndex(autompg)\n",
    "\n",
    "autompg['index_col'] = indexvalues\n",
    "autompg = autompg.set_index('index_col')\n",
    "\n",
    "print(autompg)"
   ]
  },
  {
   "cell_type": "markdown",
   "id": "8a793faf",
   "metadata": {},
   "source": [
    "Next, I will replace the '?' values in horsepower. I thought about dropping them or filling with '0' but either of those choices would impact the data negatively. So I need to replace them with something, but I was not sure what to use at first.\n",
    "\n",
    "I started by looking at the data to be replaced."
   ]
  },
  {
   "cell_type": "code",
   "execution_count": 2,
   "id": "9b2af647",
   "metadata": {},
   "outputs": [
    {
     "name": "stdout",
     "output_type": "stream",
     "text": [
      "            mpg  cylinders  displacement horsepower  weight  acceleration  \\\n",
      "index_col                                                                   \n",
      "32         25.0          4          98.0          ?  2046.0          19.0   \n",
      "126        21.0          6         200.0          ?  2875.0          17.0   \n",
      "330        40.9          4          85.0          ?  1835.0          17.3   \n",
      "336        23.6          4         140.0          ?  2905.0          14.3   \n",
      "354        34.5          4         100.0          ?  2320.0          15.8   \n",
      "374        23.0          4         151.0          ?  3035.0          20.5   \n",
      "\n",
      "           model year  origin              car name  \n",
      "index_col                                            \n",
      "32                 71       1            ford pinto  \n",
      "126                74       1         ford maverick  \n",
      "330                80       2  renault lecar deluxe  \n",
      "336                80       1    ford mustang cobra  \n",
      "354                81       2           renault 18i  \n",
      "374                82       1        amc concord dl  \n"
     ]
    }
   ],
   "source": [
    "hpfilter = autompg[autompg['horsepower'] == '?']\n",
    "\n",
    "print(hpfilter)"
   ]
  },
  {
   "cell_type": "markdown",
   "id": "81414a71",
   "metadata": {},
   "source": [
    "I see a couple of things here. First, there aren't a lot of '?' values, which means I can try to more accurately replace them.\n",
    "\n",
    "Second, I see that there are 6 unique car names. I filtered the data to see if these car names existed with non-'?' values in the horsepower column."
   ]
  },
  {
   "cell_type": "code",
   "execution_count": 3,
   "id": "9f163ebe",
   "metadata": {},
   "outputs": [
    {
     "name": "stdout",
     "output_type": "stream",
     "text": [
      "            mpg  cylinders  displacement horsepower  weight  acceleration  \\\n",
      "index_col                                                                   \n",
      "32         25.0          4          98.0          ?  2046.0          19.0   \n",
      "112        19.0          4         122.0      85.00  2310.0          18.5   \n",
      "130        26.0          4         122.0      80.00  2451.0          16.5   \n",
      "168        23.0          4         140.0      83.00  2639.0          17.0   \n",
      "174        18.0          6         171.0      97.00  2984.0          14.5   \n",
      "206        26.5          4         140.0      72.00  2565.0          13.6   \n",
      "\n",
      "           model year  origin    car name  \n",
      "index_col                                  \n",
      "32                 71       1  ford pinto  \n",
      "112                73       1  ford pinto  \n",
      "130                74       1  ford pinto  \n",
      "168                75       1  ford pinto  \n",
      "174                75       1  ford pinto  \n",
      "206                76       1  ford pinto  \n"
     ]
    }
   ],
   "source": [
    "cnfilter = autompg[autompg['car name'] == 'ford pinto']\n",
    "\n",
    "print(cnfilter)"
   ]
  },
  {
   "cell_type": "markdown",
   "id": "5e2b0c37",
   "metadata": {},
   "source": [
    "There are good values for other cars with the same names, so I will use the mean of these values for each of the '?' rows.\n",
    "\n",
    "Before I replace with the mean, I will need to create a filtered data set because you can't create a mean when non-numeric values are present."
   ]
  },
  {
   "cell_type": "code",
   "execution_count": 4,
   "id": "2f0c244c",
   "metadata": {},
   "outputs": [
    {
     "name": "stdout",
     "output_type": "stream",
     "text": [
      "Empty DataFrame\n",
      "Columns: [mpg, cylinders, displacement, horsepower, weight, acceleration, model year, origin, car name]\n",
      "Index: []\n"
     ]
    }
   ],
   "source": [
    "autompg['horsepower'] = autompg['horsepower'].replace(to_replace = '?', value = 0)\n",
    "autompg['horsepower'] = pd.to_numeric(autompg['horsepower'])\n",
    "autompgmeans = autompg[autompg.horsepower != '?']\n",
    "\n",
    "autompg['horsepower'] = autompg['horsepower'].replace(to_replace = 0, value = autompgmeans.loc[autompgmeans['car name'] == 'ford pinto', 'horsepower'].mean())\n",
    "autompg['horsepower'] = autompg['horsepower'].replace(to_replace = 0, value = autompgmeans.loc[autompgmeans['car name'] == 'ford maverick', 'horsepower'].mean())\n",
    "autompg['horsepower'] = autompg['horsepower'].replace(to_replace = 0, value = autompgmeans.loc[autompgmeans['car name'] == 'renault lecar deluxe', 'horsepower'].mean())\n",
    "autompg['horsepower'] = autompg['horsepower'].replace(to_replace = 0, value = autompgmeans.loc[autompgmeans['car name'] == 'ford mustang cobra', 'horsepower'].mean())\n",
    "autompg['horsepower'] = autompg['horsepower'].replace(to_replace = 0, value = autompgmeans.loc[autompgmeans['car name'] == 'renault 18i', 'horsepower'].mean())\n",
    "autompg['horsepower'] = autompg['horsepower'].replace(to_replace = 0, value = autompgmeans.loc[autompgmeans['car name'] == 'amc concord dl', 'horsepower'].mean())\n",
    "\n",
    "hpfilter2 = autompg[autompg['horsepower'] == '?']\n",
    "\n",
    "print(hpfilter2)"
   ]
  },
  {
   "cell_type": "markdown",
   "id": "ddf938a3",
   "metadata": {},
   "source": [
    "After replacing, I checked to see if there are any '?' values, and there are not. Success!\n",
    "\n",
    "Now I will check one of the original '?' value rows to see what horsepower value was populated."
   ]
  },
  {
   "cell_type": "code",
   "execution_count": 5,
   "id": "222dd759",
   "metadata": {},
   "outputs": [
    {
     "data": {
      "text/html": [
       "<div>\n",
       "<style scoped>\n",
       "    .dataframe tbody tr th:only-of-type {\n",
       "        vertical-align: middle;\n",
       "    }\n",
       "\n",
       "    .dataframe tbody tr th {\n",
       "        vertical-align: top;\n",
       "    }\n",
       "\n",
       "    .dataframe thead th {\n",
       "        text-align: right;\n",
       "    }\n",
       "</style>\n",
       "<table border=\"1\" class=\"dataframe\">\n",
       "  <thead>\n",
       "    <tr style=\"text-align: right;\">\n",
       "      <th></th>\n",
       "      <th>mpg</th>\n",
       "      <th>cylinders</th>\n",
       "      <th>displacement</th>\n",
       "      <th>horsepower</th>\n",
       "      <th>weight</th>\n",
       "      <th>acceleration</th>\n",
       "      <th>model year</th>\n",
       "      <th>origin</th>\n",
       "      <th>car name</th>\n",
       "    </tr>\n",
       "    <tr>\n",
       "      <th>index_col</th>\n",
       "      <th></th>\n",
       "      <th></th>\n",
       "      <th></th>\n",
       "      <th></th>\n",
       "      <th></th>\n",
       "      <th></th>\n",
       "      <th></th>\n",
       "      <th></th>\n",
       "      <th></th>\n",
       "    </tr>\n",
       "  </thead>\n",
       "  <tbody>\n",
       "    <tr>\n",
       "      <th>32</th>\n",
       "      <td>25.0</td>\n",
       "      <td>4</td>\n",
       "      <td>98.0</td>\n",
       "      <td>69.5</td>\n",
       "      <td>2046.0</td>\n",
       "      <td>19.0</td>\n",
       "      <td>71</td>\n",
       "      <td>1</td>\n",
       "      <td>ford pinto</td>\n",
       "    </tr>\n",
       "  </tbody>\n",
       "</table>\n",
       "</div>"
      ],
      "text/plain": [
       "            mpg  cylinders  displacement  horsepower  weight  acceleration  \\\n",
       "index_col                                                                    \n",
       "32         25.0          4          98.0        69.5  2046.0          19.0   \n",
       "\n",
       "           model year  origin    car name  \n",
       "index_col                                  \n",
       "32                 71       1  ford pinto  "
      ]
     },
     "execution_count": 5,
     "metadata": {},
     "output_type": "execute_result"
    }
   ],
   "source": [
    "autompg.loc[[32]]"
   ]
  },
  {
   "cell_type": "markdown",
   "id": "a6636ab8",
   "metadata": {},
   "source": [
    "This looks good.\n",
    "\n",
    "Now, I can move onto replacing the origin values."
   ]
  },
  {
   "cell_type": "code",
   "execution_count": 6,
   "id": "e63033b2",
   "metadata": {},
   "outputs": [
    {
     "name": "stdout",
     "output_type": "stream",
     "text": [
      "            mpg  cylinders  displacement  horsepower  weight  acceleration  \\\n",
      "index_col                                                                    \n",
      "1          15.0          8         350.0       165.0  3693.0          11.5   \n",
      "2          18.0          8         318.0       150.0  3436.0          11.0   \n",
      "3          16.0          8         304.0       150.0  3433.0          12.0   \n",
      "4          17.0          8         302.0       140.0  3449.0          10.5   \n",
      "5          15.0          8         429.0       198.0  4341.0          10.0   \n",
      "...         ...        ...           ...         ...     ...           ...   \n",
      "393        27.0          4         140.0        86.0  2790.0          15.6   \n",
      "394        44.0          4          97.0        52.0  2130.0          24.6   \n",
      "395        32.0          4         135.0        84.0  2295.0          11.6   \n",
      "396        28.0          4         120.0        79.0  2625.0          18.6   \n",
      "397        31.0          4         119.0        82.0  2720.0          19.4   \n",
      "\n",
      "           model year origin            car name  \n",
      "index_col                                         \n",
      "1                  70    USA   buick skylark 320  \n",
      "2                  70    USA  plymouth satellite  \n",
      "3                  70    USA       amc rebel sst  \n",
      "4                  70    USA         ford torino  \n",
      "5                  70    USA    ford galaxie 500  \n",
      "...               ...    ...                 ...  \n",
      "393                82    USA     ford mustang gl  \n",
      "394                82   Asia           vw pickup  \n",
      "395                82    USA       dodge rampage  \n",
      "396                82    USA         ford ranger  \n",
      "397                82    USA          chevy s-10  \n",
      "\n",
      "[397 rows x 9 columns]\n"
     ]
    }
   ],
   "source": [
    "autompg['origin'] = autompg['origin'].replace(to_replace = 1, value = 'USA')\n",
    "autompg['origin'] = autompg['origin'].replace(to_replace = 2, value = 'Asia')\n",
    "autompg['origin'] = autompg['origin'].replace(to_replace = 3, value = 'Europe')\n",
    "\n",
    "print(autompg)"
   ]
  },
  {
   "cell_type": "markdown",
   "id": "874a6a00",
   "metadata": {},
   "source": [
    "Now for visualization!\n",
    "\n",
    "I will create the bar chart for cylinder distribution first."
   ]
  },
  {
   "cell_type": "code",
   "execution_count": 7,
   "id": "15012581",
   "metadata": {},
   "outputs": [
    {
     "data": {
      "text/plain": [
       "<AxesSubplot:xlabel='index_col'>"
      ]
     },
     "execution_count": 7,
     "metadata": {},
     "output_type": "execute_result"
    },
    {
     "data": {
      "image/png": "[encoded data removed]",
      "text/plain": [
       "<Figure size 432x288 with 1 Axes>"
      ]
     },
     "metadata": {
      "needs_background": "light"
     },
     "output_type": "display_data"
    }
   ],
   "source": [
    "autompg_sorted= autompg.sort_values('cylinders')\n",
    "autompg_sorted.cylinders.plot(x='cylinders', kind='bar')"
   ]
  },
  {
   "cell_type": "markdown",
   "id": "5ce39f1e",
   "metadata": {},
   "source": [
    "I can see now that there are a lot of similar values. I think a box plot might give us a better visualization."
   ]
  },
  {
   "cell_type": "code",
   "execution_count": 11,
   "id": "a1044b01",
   "metadata": {},
   "outputs": [
    {
     "data": {
      "image/png": "[encoded data removed]",
      "text/plain": [
       "<Figure size 432x288 with 1 Axes>"
      ]
     },
     "metadata": {
      "needs_background": "light"
     },
     "output_type": "display_data"
    }
   ],
   "source": [
    "sns.boxplot(data=autompg, x='cylinders')\n",
    "plt.show()"
   ]
  },
  {
   "cell_type": "markdown",
   "id": "996e60d2",
   "metadata": {},
   "source": [
    "It looks like there are some outliers causing the upper whisker to disappear, but overall I can see that the middle 50% fall between 4 and 8 cylinders."
   ]
  },
  {
   "cell_type": "markdown",
   "id": "33fef8d5",
   "metadata": {},
   "source": [
    "Next, I will create the scatter plot with horsepower and weight"
   ]
  },
  {
   "cell_type": "code",
   "execution_count": 12,
   "id": "c184d2e0",
   "metadata": {},
   "outputs": [
    {
     "data": {
      "text/plain": [
       "<AxesSubplot:xlabel='horsepower', ylabel='weight'>"
      ]
     },
     "execution_count": 12,
     "metadata": {},
     "output_type": "execute_result"
    },
    {
     "data": {
      "image/png": "[encoded data removed]",
      "text/plain": [
       "<Figure size 432x288 with 1 Axes>"
      ]
     },
     "metadata": {
      "needs_background": "light"
     },
     "output_type": "display_data"
    }
   ],
   "source": [
    "sns.scatterplot(data=autompg, x='horsepower', y='weight')"
   ]
  },
  {
   "cell_type": "markdown",
   "id": "8816359d",
   "metadata": {},
   "source": [
    "There is an obvious positive correlation between horsepower and weight."
   ]
  },
  {
   "cell_type": "markdown",
   "id": "480613f8",
   "metadata": {},
   "source": [
    "My own question is: is there a correlation between model year and mpg? My hypothesis is that mpg will go up and model year goes up (positive correlation)."
   ]
  },
  {
   "cell_type": "code",
   "execution_count": 13,
   "id": "ae4800ed",
   "metadata": {},
   "outputs": [
    {
     "data": {
      "text/plain": [
       "<AxesSubplot:xlabel='model year', ylabel='mpg'>"
      ]
     },
     "execution_count": 13,
     "metadata": {},
     "output_type": "execute_result"
    },
    {
     "data": {
      "image/png": "[encoded data removed]",
      "text/plain": [
       "<Figure size 432x288 with 1 Axes>"
      ]
     },
     "metadata": {
      "needs_background": "light"
     },
     "output_type": "display_data"
    }
   ],
   "source": [
    "sns.scatterplot(data=autompg, x='model year', y='mpg')"
   ]
  },
  {
   "cell_type": "markdown",
   "id": "0a156660",
   "metadata": {},
   "source": [
    "Although there is some variation, overall it appears that mpg does go up throughout the years."
   ]
  }
 ],
 "metadata": {
  "kernelspec": {
   "display_name": "Python 3 (ipykernel)",
   "language": "python",
   "name": "python3"
  },
  "language_info": {
   "codemirror_mode": {
    "name": "ipython",
    "version": 3
   },
   "file_extension": ".py",
   "mimetype": "text/x-python",
   "name": "python",
   "nbconvert_exporter": "python",
   "pygments_lexer": "ipython3",
   "version": "3.9.12"
  }
 },
 "nbformat": 4,
 "nbformat_minor": 5
}
