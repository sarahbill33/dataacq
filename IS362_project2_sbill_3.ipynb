{
 "cells": [
  {
   "cell_type": "markdown",
   "id": "256f619a",
   "metadata": {},
   "source": [
    "# Project 2: Cleaning and Transforming Data for Analysis\n",
    "## For 3 data sets chosen from the week 5 discussion forum:\n",
    "1. Create a .csv file\n",
    "2. Use pandas to read the file and tidy it\n",
    "3. Perform the analysis suggested in the discussion post"
   ]
  },
  {
   "cell_type": "markdown",
   "id": "f5fbda71",
   "metadata": {},
   "source": [
    "## Data Set 3: Nasdaq history (posted by Gabriel Gutierrez Garcia)\n",
    "Gabriel mentioned predictive modeling to see what future values might be in the data set.\n",
    "\n",
    "First, I will import the file and look at the first few rows."
   ]
  },
  {
   "cell_type": "code",
   "execution_count": 1,
   "id": "9c9ad04a",
   "metadata": {},
   "outputs": [
    {
     "name": "stdout",
     "output_type": "stream",
     "text": [
      "                  Open         High          Low        Close    Adj Close  \\\n",
      "Date                                                                         \n",
      "6/21/2022  10974.04981  11164.99023  10974.04981  11069.29981  11069.29981   \n",
      "6/22/2022  10941.95020  11216.76953  10938.05957  11053.08008  11053.08008   \n",
      "6/23/2022  11137.67969  11260.26953  11046.28027  11232.19043  11232.19043   \n",
      "6/24/2022  11351.30957  11613.23047  11337.78027  11607.62012  11607.62012   \n",
      "6/27/2022  11661.01953  11677.49023  11487.07031  11524.54981  11524.54981   \n",
      "\n",
      "               Volume  \n",
      "Date                   \n",
      "6/21/2022  5201450000  \n",
      "6/22/2022  5215100000  \n",
      "6/23/2022  5238210000  \n",
      "6/24/2022  9438810000  \n",
      "6/27/2022  5017930000  \n"
     ]
    }
   ],
   "source": [
    "import pandas as pd\n",
    "import numpy as np\n",
    "import matplotlib.pyplot as plt\n",
    "\n",
    "url = 'https://github.com/sarahbill33/dataacq/blob/main/%5EIXIC.csv?raw=true'\n",
    "nas = pd.read_csv(url, skipinitialspace=True, index_col=0)\n",
    "\n",
    "print(nas.head(5))"
   ]
  },
  {
   "cell_type": "markdown",
   "id": "089cb2fc",
   "metadata": {},
   "source": [
    "Since the index column is the date, and I will probably want to use that, I'm going to add a non-index column for the date."
   ]
  },
  {
   "cell_type": "code",
   "execution_count": 2,
   "id": "79fd7fa3",
   "metadata": {},
   "outputs": [
    {
     "name": "stdout",
     "output_type": "stream",
     "text": [
      "                  Open         High          Low        Close    Adj Close  \\\n",
      "Date                                                                         \n",
      "6/21/2022  10974.04981  11164.99023  10974.04981  11069.29981  11069.29981   \n",
      "6/22/2022  10941.95020  11216.76953  10938.05957  11053.08008  11053.08008   \n",
      "6/23/2022  11137.67969  11260.26953  11046.28027  11232.19043  11232.19043   \n",
      "6/24/2022  11351.30957  11613.23047  11337.78027  11607.62012  11607.62012   \n",
      "6/27/2022  11661.01953  11677.49023  11487.07031  11524.54981  11524.54981   \n",
      "\n",
      "               Volume   date_col  \n",
      "Date                              \n",
      "6/21/2022  5201450000  6/21/2022  \n",
      "6/22/2022  5215100000  6/22/2022  \n",
      "6/23/2022  5238210000  6/23/2022  \n",
      "6/24/2022  9438810000  6/24/2022  \n",
      "6/27/2022  5017930000  6/27/2022  \n"
     ]
    }
   ],
   "source": [
    "nas['date_col']=nas.index\n",
    "\n",
    "print(nas.head(5))"
   ]
  },
  {
   "cell_type": "markdown",
   "id": "2202811e",
   "metadata": {},
   "source": [
    "I think I want to find the daily change and add it as a column."
   ]
  },
  {
   "cell_type": "code",
   "execution_count": 3,
   "id": "9df68f3b",
   "metadata": {},
   "outputs": [
    {
     "name": "stdout",
     "output_type": "stream",
     "text": [
      "                  Open         High          Low        Close    Adj Close  \\\n",
      "Date                                                                         \n",
      "6/21/2022  10974.04981  11164.99023  10974.04981  11069.29981  11069.29981   \n",
      "6/22/2022  10941.95020  11216.76953  10938.05957  11053.08008  11053.08008   \n",
      "6/23/2022  11137.67969  11260.26953  11046.28027  11232.19043  11232.19043   \n",
      "6/24/2022  11351.30957  11613.23047  11337.78027  11607.62012  11607.62012   \n",
      "6/27/2022  11661.01953  11677.49023  11487.07031  11524.54981  11524.54981   \n",
      "\n",
      "               Volume   date_col  daily_change  \n",
      "Date                                            \n",
      "6/21/2022  5201450000  6/21/2022           NaN  \n",
      "6/22/2022  5215100000  6/22/2022     -16.21973  \n",
      "6/23/2022  5238210000  6/23/2022     179.11035  \n",
      "6/24/2022  9438810000  6/24/2022     375.42969  \n",
      "6/27/2022  5017930000  6/27/2022     -83.07031  \n"
     ]
    }
   ],
   "source": [
    "nas['daily_change'] = nas['Close'].diff()\n",
    "\n",
    "print(nas.head(5))"
   ]
  },
  {
   "cell_type": "markdown",
   "id": "e6c502d4",
   "metadata": {},
   "source": [
    "Actually, I think I'm going to make sure the new dat_col is numeric first."
   ]
  },
  {
   "cell_type": "code",
   "execution_count": 4,
   "id": "2abdd441",
   "metadata": {},
   "outputs": [
    {
     "name": "stdout",
     "output_type": "stream",
     "text": [
      "                  Open         High          Low        Close    Adj Close  \\\n",
      "Date                                                                         \n",
      "6/21/2022  10974.04981  11164.99023  10974.04981  11069.29981  11069.29981   \n",
      "6/22/2022  10941.95020  11216.76953  10938.05957  11053.08008  11053.08008   \n",
      "6/23/2022  11137.67969  11260.26953  11046.28027  11232.19043  11232.19043   \n",
      "6/24/2022  11351.30957  11613.23047  11337.78027  11607.62012  11607.62012   \n",
      "6/27/2022  11661.01953  11677.49023  11487.07031  11524.54981  11524.54981   \n",
      "\n",
      "               Volume             date_col  daily_change  \n",
      "Date                                                      \n",
      "6/21/2022  5201450000  1655769600000000000           NaN  \n",
      "6/22/2022  5215100000  1655856000000000000     -16.21973  \n",
      "6/23/2022  5238210000  1655942400000000000     179.11035  \n",
      "6/24/2022  9438810000  1656028800000000000     375.42969  \n",
      "6/27/2022  5017930000  1656288000000000000     -83.07031  \n"
     ]
    }
   ],
   "source": [
    "nas['date_col'] = pd.to_datetime(nas['date_col'])\n",
    "nas['date_col'] = pd.to_numeric(nas['date_col'])\n",
    "nas['daily_change'] = pd.to_numeric(nas['daily_change'])\n",
    "\n",
    "print(nas.head(5))"
   ]
  },
  {
   "cell_type": "code",
   "execution_count": 5,
   "id": "997aea3a",
   "metadata": {},
   "outputs": [
    {
     "data": {
      "text/html": [
       "<div>\n",
       "<style scoped>\n",
       "    .dataframe tbody tr th:only-of-type {\n",
       "        vertical-align: middle;\n",
       "    }\n",
       "\n",
       "    .dataframe tbody tr th {\n",
       "        vertical-align: top;\n",
       "    }\n",
       "\n",
       "    .dataframe thead th {\n",
       "        text-align: right;\n",
       "    }\n",
       "</style>\n",
       "<table border=\"1\" class=\"dataframe\">\n",
       "  <thead>\n",
       "    <tr style=\"text-align: right;\">\n",
       "      <th></th>\n",
       "      <th>Open</th>\n",
       "      <th>High</th>\n",
       "      <th>Low</th>\n",
       "      <th>Close</th>\n",
       "      <th>Adj Close</th>\n",
       "      <th>Volume</th>\n",
       "      <th>date_col</th>\n",
       "      <th>daily_change</th>\n",
       "    </tr>\n",
       "    <tr>\n",
       "      <th>Date</th>\n",
       "      <th></th>\n",
       "      <th></th>\n",
       "      <th></th>\n",
       "      <th></th>\n",
       "      <th></th>\n",
       "      <th></th>\n",
       "      <th></th>\n",
       "      <th></th>\n",
       "    </tr>\n",
       "  </thead>\n",
       "  <tbody>\n",
       "    <tr>\n",
       "      <th>6/22/2022</th>\n",
       "      <td>10941.95020</td>\n",
       "      <td>11216.76953</td>\n",
       "      <td>10938.05957</td>\n",
       "      <td>11053.08008</td>\n",
       "      <td>11053.08008</td>\n",
       "      <td>5215100000</td>\n",
       "      <td>1655856000000000000</td>\n",
       "      <td>-16.21973</td>\n",
       "    </tr>\n",
       "    <tr>\n",
       "      <th>6/23/2022</th>\n",
       "      <td>11137.67969</td>\n",
       "      <td>11260.26953</td>\n",
       "      <td>11046.28027</td>\n",
       "      <td>11232.19043</td>\n",
       "      <td>11232.19043</td>\n",
       "      <td>5238210000</td>\n",
       "      <td>1655942400000000000</td>\n",
       "      <td>179.11035</td>\n",
       "    </tr>\n",
       "    <tr>\n",
       "      <th>6/24/2022</th>\n",
       "      <td>11351.30957</td>\n",
       "      <td>11613.23047</td>\n",
       "      <td>11337.78027</td>\n",
       "      <td>11607.62012</td>\n",
       "      <td>11607.62012</td>\n",
       "      <td>9438810000</td>\n",
       "      <td>1656028800000000000</td>\n",
       "      <td>375.42969</td>\n",
       "    </tr>\n",
       "    <tr>\n",
       "      <th>6/27/2022</th>\n",
       "      <td>11661.01953</td>\n",
       "      <td>11677.49023</td>\n",
       "      <td>11487.07031</td>\n",
       "      <td>11524.54981</td>\n",
       "      <td>11524.54981</td>\n",
       "      <td>5017930000</td>\n",
       "      <td>1656288000000000000</td>\n",
       "      <td>-83.07031</td>\n",
       "    </tr>\n",
       "    <tr>\n",
       "      <th>6/28/2022</th>\n",
       "      <td>11542.24023</td>\n",
       "      <td>11635.84961</td>\n",
       "      <td>11177.67969</td>\n",
       "      <td>11181.54004</td>\n",
       "      <td>11181.54004</td>\n",
       "      <td>5397910000</td>\n",
       "      <td>1656374400000000000</td>\n",
       "      <td>-343.00977</td>\n",
       "    </tr>\n",
       "    <tr>\n",
       "      <th>...</th>\n",
       "      <td>...</td>\n",
       "      <td>...</td>\n",
       "      <td>...</td>\n",
       "      <td>...</td>\n",
       "      <td>...</td>\n",
       "      <td>...</td>\n",
       "      <td>...</td>\n",
       "      <td>...</td>\n",
       "    </tr>\n",
       "    <tr>\n",
       "      <th>9/14/2022</th>\n",
       "      <td>11680.41016</td>\n",
       "      <td>11746.83008</td>\n",
       "      <td>11602.75977</td>\n",
       "      <td>11719.67969</td>\n",
       "      <td>11719.67969</td>\n",
       "      <td>4861530000</td>\n",
       "      <td>1663113600000000000</td>\n",
       "      <td>86.10938</td>\n",
       "    </tr>\n",
       "    <tr>\n",
       "      <th>9/15/2022</th>\n",
       "      <td>11633.24023</td>\n",
       "      <td>11760.73047</td>\n",
       "      <td>11497.11035</td>\n",
       "      <td>11552.36035</td>\n",
       "      <td>11552.36035</td>\n",
       "      <td>4805910000</td>\n",
       "      <td>1663200000000000000</td>\n",
       "      <td>-167.31934</td>\n",
       "    </tr>\n",
       "    <tr>\n",
       "      <th>9/16/2022</th>\n",
       "      <td>11401.20996</td>\n",
       "      <td>11460.42969</td>\n",
       "      <td>11316.91992</td>\n",
       "      <td>11448.40039</td>\n",
       "      <td>11448.40039</td>\n",
       "      <td>7451840000</td>\n",
       "      <td>1663286400000000000</td>\n",
       "      <td>-103.95996</td>\n",
       "    </tr>\n",
       "    <tr>\n",
       "      <th>9/19/2022</th>\n",
       "      <td>11338.57031</td>\n",
       "      <td>11538.12988</td>\n",
       "      <td>11337.83008</td>\n",
       "      <td>11535.01953</td>\n",
       "      <td>11535.01953</td>\n",
       "      <td>4168670000</td>\n",
       "      <td>1663545600000000000</td>\n",
       "      <td>86.61914</td>\n",
       "    </tr>\n",
       "    <tr>\n",
       "      <th>9/20/2022</th>\n",
       "      <td>11440.13965</td>\n",
       "      <td>11520.99023</td>\n",
       "      <td>11343.71973</td>\n",
       "      <td>11425.04981</td>\n",
       "      <td>11425.04981</td>\n",
       "      <td>4028100000</td>\n",
       "      <td>1663632000000000000</td>\n",
       "      <td>-109.96972</td>\n",
       "    </tr>\n",
       "  </tbody>\n",
       "</table>\n",
       "<p>63 rows × 8 columns</p>\n",
       "</div>"
      ],
      "text/plain": [
       "                  Open         High          Low        Close    Adj Close  \\\n",
       "Date                                                                         \n",
       "6/22/2022  10941.95020  11216.76953  10938.05957  11053.08008  11053.08008   \n",
       "6/23/2022  11137.67969  11260.26953  11046.28027  11232.19043  11232.19043   \n",
       "6/24/2022  11351.30957  11613.23047  11337.78027  11607.62012  11607.62012   \n",
       "6/27/2022  11661.01953  11677.49023  11487.07031  11524.54981  11524.54981   \n",
       "6/28/2022  11542.24023  11635.84961  11177.67969  11181.54004  11181.54004   \n",
       "...                ...          ...          ...          ...          ...   \n",
       "9/14/2022  11680.41016  11746.83008  11602.75977  11719.67969  11719.67969   \n",
       "9/15/2022  11633.24023  11760.73047  11497.11035  11552.36035  11552.36035   \n",
       "9/16/2022  11401.20996  11460.42969  11316.91992  11448.40039  11448.40039   \n",
       "9/19/2022  11338.57031  11538.12988  11337.83008  11535.01953  11535.01953   \n",
       "9/20/2022  11440.13965  11520.99023  11343.71973  11425.04981  11425.04981   \n",
       "\n",
       "               Volume             date_col  daily_change  \n",
       "Date                                                      \n",
       "6/22/2022  5215100000  1655856000000000000     -16.21973  \n",
       "6/23/2022  5238210000  1655942400000000000     179.11035  \n",
       "6/24/2022  9438810000  1656028800000000000     375.42969  \n",
       "6/27/2022  5017930000  1656288000000000000     -83.07031  \n",
       "6/28/2022  5397910000  1656374400000000000    -343.00977  \n",
       "...               ...                  ...           ...  \n",
       "9/14/2022  4861530000  1663113600000000000      86.10938  \n",
       "9/15/2022  4805910000  1663200000000000000    -167.31934  \n",
       "9/16/2022  7451840000  1663286400000000000    -103.95996  \n",
       "9/19/2022  4168670000  1663545600000000000      86.61914  \n",
       "9/20/2022  4028100000  1663632000000000000    -109.96972  \n",
       "\n",
       "[63 rows x 8 columns]"
      ]
     },
     "execution_count": 5,
     "metadata": {},
     "output_type": "execute_result"
    }
   ],
   "source": [
    "nas.dropna(subset=['daily_change'])"
   ]
  },
  {
   "cell_type": "markdown",
   "id": "cb3f8d6f",
   "metadata": {},
   "source": [
    "Something really cool I found was using matplotlib along with numpy to create linear regression models and then predict outcomes!"
   ]
  },
  {
   "cell_type": "code",
   "execution_count": 19,
   "id": "967f90c1",
   "metadata": {
    "scrolled": true
   },
   "outputs": [
    {
     "data": {
      "text/plain": [
       "array([ 1.03125691e-13, -1.59220837e+05])"
      ]
     },
     "execution_count": 19,
     "metadata": {},
     "output_type": "execute_result"
    }
   ],
   "source": [
    "x = nas['date_col']\n",
    "y = nas['Close']\n",
    "model = np.polyfit(x,y,1)\n",
    "\n",
    "model"
   ]
  },
  {
   "cell_type": "code",
   "execution_count": 24,
   "id": "80f1118a",
   "metadata": {},
   "outputs": [
    {
     "data": {
      "text/plain": [
       "12342.36243797891"
      ]
     },
     "execution_count": 24,
     "metadata": {},
     "output_type": "execute_result"
    }
   ],
   "source": [
    "predict = np.poly1d(model)\n",
    "date_col = 1663632000000000000+(864*365)\n",
    "predict(date_col)"
   ]
  },
  {
   "cell_type": "markdown",
   "id": "ded6ac05",
   "metadata": {},
   "source": [
    "## Answer: The predicted closing value of Nasdaq 1 year from now is 12342.36244"
   ]
  }
 ],
 "metadata": {
  "kernelspec": {
   "display_name": "Python 3 (ipykernel)",
   "language": "python",
   "name": "python3"
  },
  "language_info": {
   "codemirror_mode": {
    "name": "ipython",
    "version": 3
   },
   "file_extension": ".py",
   "mimetype": "text/x-python",
   "name": "python",
   "nbconvert_exporter": "python",
   "pygments_lexer": "ipython3",
   "version": "3.9.12"
  }
 },
 "nbformat": 4,
 "nbformat_minor": 5
}
