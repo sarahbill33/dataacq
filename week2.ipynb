{
 "cells": [
  {
   "cell_type": "markdown",
   "id": "e1bc8869",
   "metadata": {},
   "source": [
    "#List Comprehension"
   ]
  },
  {
   "cell_type": "markdown",
   "id": "3a7cdc6a",
   "metadata": {},
   "source": [
    "##1. First, create a list of things you want to pull from. I used a dictionary of fruits and their colors."
   ]
  },
  {
   "cell_type": "code",
   "execution_count": 8,
   "id": "208abfca",
   "metadata": {},
   "outputs": [
    {
     "name": "stdout",
     "output_type": "stream",
     "text": [
      "Red fruits are:  {'watermelon', 'apple'}\n"
     ]
    }
   ],
   "source": [
    "fruits = {\"apple\":\"red\", \"banana\":\"yellow\", \"grape\":\"purple\", \"watermelon\":\"red\", \"kiwi\":\"green\"}"
   ]
  },
  {
   "cell_type": "markdown",
   "id": "7b09185e",
   "metadata": {},
   "source": [
    "##2. Next, create a comprehension command to pull some specific data from that list.\n",
    "\n",
    "###Basic structure is: {expression **for** element **in** iterable **if** condition}\n",
    "\n",
    "###I want to find out which fruits are red.\n",
    "\n",
    "###expression == c (color) -- *no permutation needed, I just want the color*\n",
    "\n",
    "###element == c (color) -- *this is what I want to be targeted*\n",
    "\n",
    "###iterable == fruits (the dictionary I created)\n",
    "\n",
    "###condition == fruits[c] == \"red\" -- *as I said, I only want to see red fruits*\n"
   ]
  },
  {
   "cell_type": "code",
   "execution_count": null,
   "id": "2ef1f7fd",
   "metadata": {},
   "outputs": [],
   "source": [
    "redFruits = {c for c in fruits if fruits[c]==\"red\"}"
   ]
  },
  {
   "cell_type": "markdown",
   "id": "994fe07c",
   "metadata": {},
   "source": [
    "##3. Finally, create the print statement for how you want the results to display."
   ]
  },
  {
   "cell_type": "code",
   "execution_count": 9,
   "id": "7c39677c",
   "metadata": {},
   "outputs": [
    {
     "name": "stdout",
     "output_type": "stream",
     "text": [
      "Red fruits are:  {'watermelon', 'apple'}\n"
     ]
    }
   ],
   "source": [
    "print(\"Red fruits are: \", redFruits)"
   ]
  },
  {
   "cell_type": "code",
   "execution_count": null,
   "id": "77b25468",
   "metadata": {},
   "outputs": [],
   "source": []
  }
 ],
 "metadata": {
  "kernelspec": {
   "display_name": "Python 3 (ipykernel)",
   "language": "python",
   "name": "python3"
  },
  "language_info": {
   "codemirror_mode": {
    "name": "ipython",
    "version": 3
   },
   "file_extension": ".py",
   "mimetype": "text/x-python",
   "name": "python",
   "nbconvert_exporter": "python",
   "pygments_lexer": "ipython3",
   "version": "3.9.12"
  }
 },
 "nbformat": 4,
 "nbformat_minor": 5
}
