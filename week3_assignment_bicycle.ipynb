{
 "cells": [
  {
   "cell_type": "markdown",
   "id": "d675436a",
   "metadata": {},
   "source": [
    "# Biking from NYC to Key West"
   ]
  },
  {
   "cell_type": "markdown",
   "id": "4c857509",
   "metadata": {},
   "source": [
    "## New York to Key West is 1,440 miles\n",
    "## First, we need to create the journal entries logging cumulative miles each day\n",
    "## Since that's a lot of miles, let's create some random numbers"
   ]
  },
  {
   "cell_type": "code",
   "execution_count": 5,
   "id": "13e61dac",
   "metadata": {},
   "outputs": [
    {
     "name": "stdout",
     "output_type": "stream",
     "text": [
      "[55, 98, 166, 243, 311, 379, 456, 521, 598, 639, 696, 743, 807, 873, 951, 998, 1068, 1135, 1179, 1246, 1289, 1346, 1397, 1454]\n"
     ]
    }
   ],
   "source": [
    "import numpy as np\n",
    "import pandas as pd\n",
    "import random\n",
    "\n",
    "entries = [55]\n",
    "e = entries[len(entries)-1]\n",
    "\n",
    "while e < 1441:\n",
    "    r = random.randrange(40,80)\n",
    "    entries.append(e + r)\n",
    "    e = entries[len(entries)-1]\n",
    "\n",
    "print(entries)"
   ]
  },
  {
   "cell_type": "markdown",
   "id": "206c85d9",
   "metadata": {},
   "source": [
    "## Now that we have our cumulative daily journal entries, let's look at daily miles"
   ]
  },
  {
   "cell_type": "code",
   "execution_count": 7,
   "id": "e6892948",
   "metadata": {},
   "outputs": [
    {
     "name": "stdout",
     "output_type": "stream",
     "text": [
      "0       55\n",
      "1       98\n",
      "2      166\n",
      "3      243\n",
      "4      311\n",
      "5      379\n",
      "6      456\n",
      "7      521\n",
      "8      598\n",
      "9      639\n",
      "10     696\n",
      "11     743\n",
      "12     807\n",
      "13     873\n",
      "14     951\n",
      "15     998\n",
      "16    1068\n",
      "17    1135\n",
      "18    1179\n",
      "19    1246\n",
      "20    1289\n",
      "21    1346\n",
      "22    1397\n",
      "23    1454\n",
      "dtype: int64\n"
     ]
    }
   ],
   "source": [
    "daily_cum = pd.Series(entries)\n",
    "print(daily_cum)"
   ]
  },
  {
   "cell_type": "code",
   "execution_count": 17,
   "id": "ead533b1",
   "metadata": {},
   "outputs": [
    {
     "name": "stdout",
     "output_type": "stream",
     "text": [
      "0     55\n",
      "1     43\n",
      "2     68\n",
      "3     77\n",
      "4     68\n",
      "5     68\n",
      "6     77\n",
      "7     65\n",
      "8     77\n",
      "9     41\n",
      "10    57\n",
      "11    47\n",
      "12    64\n",
      "13    66\n",
      "14    78\n",
      "15    47\n",
      "16    70\n",
      "17    67\n",
      "18    44\n",
      "19    67\n",
      "20    43\n",
      "21    57\n",
      "22    51\n",
      "23    57\n",
      "dtype: int64\n"
     ]
    }
   ],
   "source": [
    "entries2 = [entries[0]]\n",
    "i = 1\n",
    "\n",
    "while i < len(entries):\n",
    "    entries2.append(entries[i] - entries[i-1])\n",
    "    i+= 1\n",
    "\n",
    "daily_totals = pd.Series(entries2)\n",
    "\n",
    "print(daily_totals)"
   ]
  },
  {
   "cell_type": "code",
   "execution_count": 25,
   "id": "07455ee9",
   "metadata": {},
   "outputs": [
    {
     "name": "stdout",
     "output_type": "stream",
     "text": [
      "       0   1\n",
      "0     55  55\n",
      "1     98  43\n",
      "2    166  68\n",
      "3    243  77\n",
      "4    311  68\n",
      "5    379  68\n",
      "6    456  77\n",
      "7    521  65\n",
      "8    598  77\n",
      "9    639  41\n",
      "10   696  57\n",
      "11   743  47\n",
      "12   807  64\n",
      "13   873  66\n",
      "14   951  78\n",
      "15   998  47\n",
      "16  1068  70\n",
      "17  1135  67\n",
      "18  1179  44\n",
      "19  1246  67\n",
      "20  1289  43\n",
      "21  1346  57\n",
      "22  1397  51\n",
      "23  1454  57\n"
     ]
    }
   ],
   "source": [
    "biking_trip = pd.concat([daily_cum, daily_totals],axis=1)\n",
    "\n",
    "print(biking_trip)"
   ]
  },
  {
   "cell_type": "code",
   "execution_count": 26,
   "id": "f022681a",
   "metadata": {},
   "outputs": [
    {
     "name": "stdout",
     "output_type": "stream",
     "text": [
      "       0   1  day\n",
      "0     55  55    1\n",
      "1     98  43    2\n",
      "2    166  68    3\n",
      "3    243  77    4\n",
      "4    311  68    5\n",
      "5    379  68    6\n",
      "6    456  77    7\n",
      "7    521  65    8\n",
      "8    598  77    9\n",
      "9    639  41   10\n",
      "10   696  57   11\n",
      "11   743  47   12\n",
      "12   807  64   13\n",
      "13   873  66   14\n",
      "14   951  78   15\n",
      "15   998  47   16\n",
      "16  1068  70   17\n",
      "17  1135  67   18\n",
      "18  1179  44   19\n",
      "19  1246  67   20\n",
      "20  1289  43   21\n",
      "21  1346  57   22\n",
      "22  1397  51   23\n",
      "23  1454  57   24\n"
     ]
    }
   ],
   "source": [
    "biking_trip['day'] = pd.Series(range(1,25))\n",
    "\n",
    "print(biking_trip)"
   ]
  },
  {
   "cell_type": "markdown",
   "id": "603d2865",
   "metadata": {},
   "source": [
    "## And finally, let's look at a graph of the daily miles over time, compared to cumulative."
   ]
  },
  {
   "cell_type": "code",
   "execution_count": 29,
   "id": "046c0d9e",
   "metadata": {},
   "outputs": [
    {
     "data": {
      "text/plain": [
       "<AxesSubplot:xlabel='day'>"
      ]
     },
     "execution_count": 29,
     "metadata": {},
     "output_type": "execute_result"
    },
    {
     "data": {
      "image/png": "[encoded data removed]",
      "text/plain": [
       "<Figure size 720x648 with 1 Axes>"
      ]
     },
     "metadata": {
      "needs_background": "light"
     },
     "output_type": "display_data"
    }
   ],
   "source": [
    "biking_trip.plot(x=\"day\", y=[1,0], kind=\"line\", figsize=(10, 9))"
   ]
  },
  {
   "cell_type": "code",
   "execution_count": null,
   "id": "28ccfaef",
   "metadata": {},
   "outputs": [],
   "source": []
  }
 ],
 "metadata": {
  "kernelspec": {
   "display_name": "Python 3 (ipykernel)",
   "language": "python",
   "name": "python3"
  },
  "language_info": {
   "codemirror_mode": {
    "name": "ipython",
    "version": 3
   },
   "file_extension": ".py",
   "mimetype": "text/x-python",
   "name": "python",
   "nbconvert_exporter": "python",
   "pygments_lexer": "ipython3",
   "version": "3.9.12"
  }
 },
 "nbformat": 4,
 "nbformat_minor": 5
}
