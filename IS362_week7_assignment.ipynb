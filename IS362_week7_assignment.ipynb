{
 "cells": [
  {
   "cell_type": "markdown",
   "id": "211eea0b",
   "metadata": {},
   "source": [
    "## WEEK 7: Aggregating Data with Movie Ratings\n",
    "\n",
    "1. Load the ratings by user information that you collected into a pandas dataframe.\n",
    "2. Show the average ratings for each user and each movie.\n",
    "3. Create a new pandas dataframe, with normalized ratings for each user. Again, show the average ratings for each user and each movie.\n",
    "4. Provide a text-based conclusion: explain what might be advantages and disadvantages of using normalized ratings instead of the actual ratings.\n",
    "5. Create another new pandas dataframe, with standardized ratings for each user. Once again, show the average ratings for each user and each movie. (EXTRA CREDIT)"
   ]
  },
  {
   "cell_type": "markdown",
   "id": "d5e6579e",
   "metadata": {},
   "source": [
    "First, I will load the .csv file with the movie ratings and take a look at it."
   ]
  },
  {
   "cell_type": "code",
   "execution_count": 1,
   "id": "28cd06ed",
   "metadata": {},
   "outputs": [
    {
     "name": "stdout",
     "output_type": "stream",
     "text": [
      "           Nightmare Before Christmas  Coraline  Hocus Pocus  Hocus Pocus 2  \\\n",
      "Ali                               2.0       3.0          5.0            NaN   \n",
      "Angie                             3.0       5.0          5.0            5.0   \n",
      "Neal                              4.0       NaN          NaN            2.0   \n",
      "Fabian                            5.0       4.0          NaN            3.0   \n",
      "Mackenzie                         NaN       NaN          4.0            3.0   \n",
      "\n",
      "           Monster House  Spirited Away  \n",
      "Ali                  NaN            4.0  \n",
      "Angie                3.0            NaN  \n",
      "Neal                 3.0            5.0  \n",
      "Fabian               NaN            5.0  \n",
      "Mackenzie            3.0            NaN  \n"
     ]
    }
   ],
   "source": [
    "import pandas as pd\n",
    "import numpy as np\n",
    "\n",
    "url = 'https://github.com/sarahbill33/dataacq/blob/main/movieratings%20-%20Sheet1.csv?raw=true'\n",
    "ratings = pd.read_csv(url, index_col=0)\n",
    "\n",
    "print(ratings)"
   ]
  },
  {
   "cell_type": "markdown",
   "id": "2850ad55",
   "metadata": {},
   "source": [
    "Next, I think I want to name the index column for clarity."
   ]
  },
  {
   "cell_type": "code",
   "execution_count": 3,
   "id": "3eacbd42",
   "metadata": {},
   "outputs": [
    {
     "name": "stdout",
     "output_type": "stream",
     "text": [
      "            Nightmare Before Christmas  Coraline  Hocus Pocus  Hocus Pocus 2  \\\n",
      "Respondent                                                                     \n",
      "Ali                                2.0       3.0          5.0            NaN   \n",
      "Angie                              3.0       5.0          5.0            5.0   \n",
      "Neal                               4.0       NaN          NaN            2.0   \n",
      "Fabian                             5.0       4.0          NaN            3.0   \n",
      "Mackenzie                          NaN       NaN          4.0            3.0   \n",
      "\n",
      "            Monster House  Spirited Away  \n",
      "Respondent                                \n",
      "Ali                   NaN            4.0  \n",
      "Angie                 3.0            NaN  \n",
      "Neal                  3.0            5.0  \n",
      "Fabian                NaN            5.0  \n",
      "Mackenzie             3.0            NaN  \n"
     ]
    }
   ],
   "source": [
    "ratings.index.rename('Respondent', inplace=True)\n",
    "\n",
    "print(ratings)"
   ]
  },
  {
   "cell_type": "markdown",
   "id": "7f5e73e3",
   "metadata": {},
   "source": [
    "Now I will transform this to a long dataset before I do any groupings."
   ]
  },
  {
   "cell_type": "code",
   "execution_count": 4,
   "id": "d43b6b9c",
   "metadata": {},
   "outputs": [
    {
     "name": "stdout",
     "output_type": "stream",
     "text": [
      "                              variable  Ratings\n",
      "Respondent                                     \n",
      "Ali         Nightmare Before Christmas      2.0\n",
      "Angie       Nightmare Before Christmas      3.0\n",
      "Neal        Nightmare Before Christmas      4.0\n",
      "Fabian      Nightmare Before Christmas      5.0\n",
      "Mackenzie   Nightmare Before Christmas      NaN\n",
      "Ali                           Coraline      3.0\n",
      "Angie                         Coraline      5.0\n",
      "Neal                          Coraline      NaN\n",
      "Fabian                        Coraline      4.0\n",
      "Mackenzie                     Coraline      NaN\n",
      "Ali                        Hocus Pocus      5.0\n",
      "Angie                      Hocus Pocus      5.0\n",
      "Neal                       Hocus Pocus      NaN\n",
      "Fabian                     Hocus Pocus      NaN\n",
      "Mackenzie                  Hocus Pocus      4.0\n",
      "Ali                      Hocus Pocus 2      NaN\n",
      "Angie                    Hocus Pocus 2      5.0\n",
      "Neal                     Hocus Pocus 2      2.0\n",
      "Fabian                   Hocus Pocus 2      3.0\n",
      "Mackenzie                Hocus Pocus 2      3.0\n",
      "Ali                      Monster House      NaN\n",
      "Angie                    Monster House      3.0\n",
      "Neal                     Monster House      3.0\n",
      "Fabian                   Monster House      NaN\n",
      "Mackenzie                Monster House      3.0\n",
      "Ali                      Spirited Away      4.0\n",
      "Angie                    Spirited Away      NaN\n",
      "Neal                     Spirited Away      5.0\n",
      "Fabian                   Spirited Away      5.0\n",
      "Mackenzie                Spirited Away      NaN\n"
     ]
    }
   ],
   "source": [
    "movie_list = list(ratings.columns)\n",
    "\n",
    "ratings_long = pd.melt(ratings, value_vars = movie_list, value_name = 'Ratings', ignore_index = False)\n",
    "\n",
    "print(ratings_long)"
   ]
  },
  {
   "cell_type": "markdown",
   "id": "86782678",
   "metadata": {},
   "source": [
    "Now I am ready to do some groupings. First I will group by respondent to see average ratings by person."
   ]
  },
  {
   "cell_type": "code",
   "execution_count": 16,
   "id": "3a2fc13f",
   "metadata": {},
   "outputs": [
    {
     "name": "stdout",
     "output_type": "stream",
     "text": [
      "Respondent\n",
      "Ali          3.500000\n",
      "Angie        4.200000\n",
      "Fabian       4.250000\n",
      "Mackenzie    3.333333\n",
      "Neal         3.500000\n",
      "Name: Ratings, dtype: float64\n"
     ]
    }
   ],
   "source": [
    "respondents = ratings_long.groupby('Respondent')['Ratings'].mean()\n",
    "\n",
    "print(respondents)"
   ]
  },
  {
   "cell_type": "markdown",
   "id": "099c4042",
   "metadata": {},
   "source": [
    "And next I will look at average ratings by movie."
   ]
  },
  {
   "cell_type": "code",
   "execution_count": 17,
   "id": "0678c4fb",
   "metadata": {},
   "outputs": [
    {
     "name": "stdout",
     "output_type": "stream",
     "text": [
      "variable\n",
      "Coraline                      4.000000\n",
      "Hocus Pocus                   4.666667\n",
      "Hocus Pocus 2                 3.250000\n",
      "Monster House                 3.000000\n",
      "Nightmare Before Christmas    3.500000\n",
      "Spirited Away                 4.666667\n",
      "Name: Ratings, dtype: float64\n"
     ]
    }
   ],
   "source": [
    "movies = ratings_long.groupby('variable')['Ratings'].mean()\n",
    "\n",
    "print(movies)"
   ]
  },
  {
   "cell_type": "markdown",
   "id": "6bc16f3c",
   "metadata": {},
   "source": [
    "### In conclusion of the first part, I can see that the individual average ratings ranged from 3.32 (Mackenzie) to 4.25 (Fabian). The movie ratings ranged from 3.00 (Monster House) to a tie at 4.67 (Hocus Pocus and Spirited Away)."
   ]
  },
  {
   "cell_type": "markdown",
   "id": "3381a658",
   "metadata": {},
   "source": [
    "Next, I will create the new dataframe with normalized data using the .agg() method."
   ]
  },
  {
   "cell_type": "code",
   "execution_count": 25,
   "id": "6f31f581",
   "metadata": {},
   "outputs": [
    {
     "name": "stdout",
     "output_type": "stream",
     "text": [
      "           Nightmare Before Christmas  Coraline  Hocus Pocus  Hocus Pocus 2  \\\n",
      "Ali                               2.0       3.0          5.0            NaN   \n",
      "Angie                             3.0       5.0          5.0            5.0   \n",
      "Neal                              4.0       NaN          NaN            2.0   \n",
      "Fabian                            5.0       4.0          NaN            3.0   \n",
      "Mackenzie                         NaN       NaN          4.0            3.0   \n",
      "\n",
      "           Monster House  Spirited Away  \n",
      "Ali                  NaN            4.0  \n",
      "Angie                3.0            NaN  \n",
      "Neal                 3.0            5.0  \n",
      "Fabian               NaN            5.0  \n",
      "Mackenzie            3.0            NaN  \n"
     ]
    }
   ],
   "source": [
    "url2 = 'https://github.com/sarahbill33/dataacq/blob/main/movieratings%20-%20Sheet1.csv?raw=true'\n",
    "ratings_norm = pd.read_csv(url2, index_col=0)\n",
    "\n",
    "print(ratings_norm)"
   ]
  },
  {
   "cell_type": "code",
   "execution_count": 26,
   "id": "25c278ed",
   "metadata": {},
   "outputs": [],
   "source": [
    "ratings_norm.index.rename('Respondent', inplace=True)"
   ]
  },
  {
   "cell_type": "code",
   "execution_count": 27,
   "id": "b2b258b8",
   "metadata": {},
   "outputs": [
    {
     "name": "stdout",
     "output_type": "stream",
     "text": [
      "                              variable  Ratings\n",
      "Respondent                                     \n",
      "Ali         Nightmare Before Christmas      2.0\n",
      "Angie       Nightmare Before Christmas      3.0\n",
      "Neal        Nightmare Before Christmas      4.0\n",
      "Fabian      Nightmare Before Christmas      5.0\n",
      "Mackenzie   Nightmare Before Christmas      NaN\n",
      "Ali                           Coraline      3.0\n",
      "Angie                         Coraline      5.0\n",
      "Neal                          Coraline      NaN\n",
      "Fabian                        Coraline      4.0\n",
      "Mackenzie                     Coraline      NaN\n",
      "Ali                        Hocus Pocus      5.0\n",
      "Angie                      Hocus Pocus      5.0\n",
      "Neal                       Hocus Pocus      NaN\n",
      "Fabian                     Hocus Pocus      NaN\n",
      "Mackenzie                  Hocus Pocus      4.0\n",
      "Ali                      Hocus Pocus 2      NaN\n",
      "Angie                    Hocus Pocus 2      5.0\n",
      "Neal                     Hocus Pocus 2      2.0\n",
      "Fabian                   Hocus Pocus 2      3.0\n",
      "Mackenzie                Hocus Pocus 2      3.0\n",
      "Ali                      Monster House      NaN\n",
      "Angie                    Monster House      3.0\n",
      "Neal                     Monster House      3.0\n",
      "Fabian                   Monster House      NaN\n",
      "Mackenzie                Monster House      3.0\n",
      "Ali                      Spirited Away      4.0\n",
      "Angie                    Spirited Away      NaN\n",
      "Neal                     Spirited Away      5.0\n",
      "Fabian                   Spirited Away      5.0\n",
      "Mackenzie                Spirited Away      NaN\n"
     ]
    }
   ],
   "source": [
    "movie_list2 = list(ratings_norm.columns)\n",
    "\n",
    "ratings_norml = pd.melt(ratings_norm, value_vars = movie_list2, value_name = 'Ratings', ignore_index = False)\n",
    "\n",
    "print(ratings_norml)"
   ]
  },
  {
   "cell_type": "code",
   "execution_count": 28,
   "id": "81863647",
   "metadata": {},
   "outputs": [
    {
     "name": "stdout",
     "output_type": "stream",
     "text": [
      "Respondent\n",
      "Ali          3.500000\n",
      "Angie        4.200000\n",
      "Fabian       4.250000\n",
      "Mackenzie    3.333333\n",
      "Neal         3.500000\n",
      "Name: Ratings, dtype: float64\n"
     ]
    }
   ],
   "source": [
    "respondents_norm = ratings_norml.groupby('Respondent')['Ratings'].agg('mean')\n",
    "\n",
    "print(respondents_norm)"
   ]
  },
  {
   "cell_type": "code",
   "execution_count": 30,
   "id": "42fb38fa",
   "metadata": {},
   "outputs": [
    {
     "name": "stdout",
     "output_type": "stream",
     "text": [
      "variable\n",
      "Coraline                      4.000000\n",
      "Hocus Pocus                   4.666667\n",
      "Hocus Pocus 2                 3.250000\n",
      "Monster House                 3.000000\n",
      "Nightmare Before Christmas    3.500000\n",
      "Spirited Away                 4.666667\n",
      "Name: Ratings, dtype: float64\n"
     ]
    }
   ],
   "source": [
    "movies_norm = ratings_norml.groupby('variable')['Ratings'].agg('mean')\n",
    "\n",
    "print(movies_norm)"
   ]
  },
  {
   "cell_type": "markdown",
   "id": "00082cd7",
   "metadata": {},
   "source": [
    "### In conclusion of the second part, I can see that the respondent and movie averages did not change :-/. I am wondering if I did something wrong."
   ]
  },
  {
   "cell_type": "markdown",
   "id": "30f43517",
   "metadata": {},
   "source": [
    "The only thing I can think of that I could have done wrong is maybe I used the wrong method for \"normalization\". The textbook considered the .agg() function to be part of normalization, and so that is what I used."
   ]
  }
 ],
 "metadata": {
  "kernelspec": {
   "display_name": "Python 3 (ipykernel)",
   "language": "python",
   "name": "python3"
  },
  "language_info": {
   "codemirror_mode": {
    "name": "ipython",
    "version": 3
   },
   "file_extension": ".py",
   "mimetype": "text/x-python",
   "name": "python",
   "nbconvert_exporter": "python",
   "pygments_lexer": "ipython3",
   "version": "3.9.12"
  }
 },
 "nbformat": 4,
 "nbformat_minor": 5
}
