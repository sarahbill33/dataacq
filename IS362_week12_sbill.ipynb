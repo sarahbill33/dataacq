{
 "cells": [
  {
   "cell_type": "markdown",
   "id": "4d9d7c5e",
   "metadata": {},
   "source": [
    "## Week 12 Assignment: Preprocessing Data\n",
    "\n",
    "- Create a pandas DataFrame with a subset of the columns in the dataset. You should include the column that indicates edible or poisonous, the column that includes odor, and at least one other column of your choosing.\n",
    "- Add meaningful names for each column.\n",
    "- Replace the codes used in the data with numeric values—for example, in the first “target” column, “e” might become 0 and “p” might become 1.\n",
    "- Perform exploratory data analysis: show the distribution of data for each of the columns you selected, and show scatterplots for edible/poisonous vs. odor as well as the other column that you selected.\n",
    "- Include some text describing your preliminary conclusions about whether either of the other columns could be helpful in predicting if a specific mushroom is edible or poisonous.\n",
    "\n",
    "Dataset: https://archive.ics.uci.edu/ml/datasets/Mushroom"
   ]
  },
  {
   "cell_type": "markdown",
   "id": "7788d396",
   "metadata": {},
   "source": [
    "#### First, import data and create formatted subset"
   ]
  },
  {
   "cell_type": "code",
   "execution_count": 42,
   "id": "21bba1de",
   "metadata": {},
   "outputs": [
    {
     "name": "stderr",
     "output_type": "stream",
     "text": [
      "C:\\Users\\Sarah Bill\\AppData\\Local\\Temp\\ipykernel_69308\\415363905.py:20: SettingWithCopyWarning: \n",
      "A value is trying to be set on a copy of a slice from a DataFrame\n",
      "\n",
      "See the caveats in the documentation: https://pandas.pydata.org/pandas-docs/stable/user_guide/indexing.html#returning-a-view-versus-a-copy\n",
      "  mushsub['edibility'].mask(mushsub['edibility']=='e',0, inplace=True)\n",
      "C:\\Users\\Sarah Bill\\AppData\\Local\\Temp\\ipykernel_69308\\415363905.py:21: SettingWithCopyWarning: \n",
      "A value is trying to be set on a copy of a slice from a DataFrame\n",
      "\n",
      "See the caveats in the documentation: https://pandas.pydata.org/pandas-docs/stable/user_guide/indexing.html#returning-a-view-versus-a-copy\n",
      "  mushsub['edibility'].mask(mushsub['edibility']=='p',1, inplace=True)\n",
      "C:\\Users\\Sarah Bill\\AppData\\Local\\Temp\\ipykernel_69308\\415363905.py:22: SettingWithCopyWarning: \n",
      "A value is trying to be set on a copy of a slice from a DataFrame\n",
      "\n",
      "See the caveats in the documentation: https://pandas.pydata.org/pandas-docs/stable/user_guide/indexing.html#returning-a-view-versus-a-copy\n",
      "  mushsub['odor'].mask(mushsub['odor']=='a',0, inplace=True)\n",
      "C:\\Users\\Sarah Bill\\AppData\\Local\\Temp\\ipykernel_69308\\415363905.py:23: SettingWithCopyWarning: \n",
      "A value is trying to be set on a copy of a slice from a DataFrame\n",
      "\n",
      "See the caveats in the documentation: https://pandas.pydata.org/pandas-docs/stable/user_guide/indexing.html#returning-a-view-versus-a-copy\n",
      "  mushsub['odor'].mask(mushsub['odor']=='l',1, inplace=True)\n",
      "C:\\Users\\Sarah Bill\\AppData\\Local\\Temp\\ipykernel_69308\\415363905.py:24: SettingWithCopyWarning: \n",
      "A value is trying to be set on a copy of a slice from a DataFrame\n",
      "\n",
      "See the caveats in the documentation: https://pandas.pydata.org/pandas-docs/stable/user_guide/indexing.html#returning-a-view-versus-a-copy\n",
      "  mushsub['odor'].mask(mushsub['odor']=='c',2, inplace=True)\n",
      "C:\\Users\\Sarah Bill\\AppData\\Local\\Temp\\ipykernel_69308\\415363905.py:25: SettingWithCopyWarning: \n",
      "A value is trying to be set on a copy of a slice from a DataFrame\n",
      "\n",
      "See the caveats in the documentation: https://pandas.pydata.org/pandas-docs/stable/user_guide/indexing.html#returning-a-view-versus-a-copy\n",
      "  mushsub['odor'].mask(mushsub['odor']=='y',3, inplace=True)\n",
      "C:\\Users\\Sarah Bill\\AppData\\Local\\Temp\\ipykernel_69308\\415363905.py:26: SettingWithCopyWarning: \n",
      "A value is trying to be set on a copy of a slice from a DataFrame\n",
      "\n",
      "See the caveats in the documentation: https://pandas.pydata.org/pandas-docs/stable/user_guide/indexing.html#returning-a-view-versus-a-copy\n",
      "  mushsub['odor'].mask(mushsub['odor']=='f',4, inplace=True)\n",
      "C:\\Users\\Sarah Bill\\AppData\\Local\\Temp\\ipykernel_69308\\415363905.py:27: SettingWithCopyWarning: \n",
      "A value is trying to be set on a copy of a slice from a DataFrame\n",
      "\n",
      "See the caveats in the documentation: https://pandas.pydata.org/pandas-docs/stable/user_guide/indexing.html#returning-a-view-versus-a-copy\n",
      "  mushsub['odor'].mask(mushsub['odor']=='m',5, inplace=True)\n",
      "C:\\Users\\Sarah Bill\\AppData\\Local\\Temp\\ipykernel_69308\\415363905.py:28: SettingWithCopyWarning: \n",
      "A value is trying to be set on a copy of a slice from a DataFrame\n",
      "\n",
      "See the caveats in the documentation: https://pandas.pydata.org/pandas-docs/stable/user_guide/indexing.html#returning-a-view-versus-a-copy\n",
      "  mushsub['odor'].mask(mushsub['odor']=='n',6, inplace=True)\n",
      "C:\\Users\\Sarah Bill\\AppData\\Local\\Temp\\ipykernel_69308\\415363905.py:29: SettingWithCopyWarning: \n",
      "A value is trying to be set on a copy of a slice from a DataFrame\n",
      "\n",
      "See the caveats in the documentation: https://pandas.pydata.org/pandas-docs/stable/user_guide/indexing.html#returning-a-view-versus-a-copy\n",
      "  mushsub['odor'].mask(mushsub['odor']=='p',7, inplace=True)\n",
      "C:\\Users\\Sarah Bill\\AppData\\Local\\Temp\\ipykernel_69308\\415363905.py:30: SettingWithCopyWarning: \n",
      "A value is trying to be set on a copy of a slice from a DataFrame\n",
      "\n",
      "See the caveats in the documentation: https://pandas.pydata.org/pandas-docs/stable/user_guide/indexing.html#returning-a-view-versus-a-copy\n",
      "  mushsub['odor'].mask(mushsub['odor']=='s',8, inplace=True)\n",
      "C:\\Users\\Sarah Bill\\AppData\\Local\\Temp\\ipykernel_69308\\415363905.py:31: SettingWithCopyWarning: \n",
      "A value is trying to be set on a copy of a slice from a DataFrame\n",
      "\n",
      "See the caveats in the documentation: https://pandas.pydata.org/pandas-docs/stable/user_guide/indexing.html#returning-a-view-versus-a-copy\n",
      "  mushsub['gill-color'].mask(mushsub['gill-color']=='k',0, inplace=True)\n",
      "C:\\Users\\Sarah Bill\\AppData\\Local\\Temp\\ipykernel_69308\\415363905.py:32: SettingWithCopyWarning: \n",
      "A value is trying to be set on a copy of a slice from a DataFrame\n",
      "\n",
      "See the caveats in the documentation: https://pandas.pydata.org/pandas-docs/stable/user_guide/indexing.html#returning-a-view-versus-a-copy\n",
      "  mushsub['gill-color'].mask(mushsub['gill-color']=='n',1, inplace=True)\n",
      "C:\\Users\\Sarah Bill\\AppData\\Local\\Temp\\ipykernel_69308\\415363905.py:33: SettingWithCopyWarning: \n",
      "A value is trying to be set on a copy of a slice from a DataFrame\n",
      "\n",
      "See the caveats in the documentation: https://pandas.pydata.org/pandas-docs/stable/user_guide/indexing.html#returning-a-view-versus-a-copy\n",
      "  mushsub['gill-color'].mask(mushsub['gill-color']=='b',2, inplace=True)\n",
      "C:\\Users\\Sarah Bill\\AppData\\Local\\Temp\\ipykernel_69308\\415363905.py:34: SettingWithCopyWarning: \n",
      "A value is trying to be set on a copy of a slice from a DataFrame\n",
      "\n",
      "See the caveats in the documentation: https://pandas.pydata.org/pandas-docs/stable/user_guide/indexing.html#returning-a-view-versus-a-copy\n",
      "  mushsub['gill-color'].mask(mushsub['gill-color']=='h',3, inplace=True)\n",
      "C:\\Users\\Sarah Bill\\AppData\\Local\\Temp\\ipykernel_69308\\415363905.py:35: SettingWithCopyWarning: \n",
      "A value is trying to be set on a copy of a slice from a DataFrame\n",
      "\n",
      "See the caveats in the documentation: https://pandas.pydata.org/pandas-docs/stable/user_guide/indexing.html#returning-a-view-versus-a-copy\n",
      "  mushsub['gill-color'].mask(mushsub['gill-color']=='g',4, inplace=True)\n",
      "C:\\Users\\Sarah Bill\\AppData\\Local\\Temp\\ipykernel_69308\\415363905.py:36: SettingWithCopyWarning: \n",
      "A value is trying to be set on a copy of a slice from a DataFrame\n",
      "\n",
      "See the caveats in the documentation: https://pandas.pydata.org/pandas-docs/stable/user_guide/indexing.html#returning-a-view-versus-a-copy\n",
      "  mushsub['gill-color'].mask(mushsub['gill-color']=='r',5, inplace=True)\n",
      "C:\\Users\\Sarah Bill\\AppData\\Local\\Temp\\ipykernel_69308\\415363905.py:37: SettingWithCopyWarning: \n",
      "A value is trying to be set on a copy of a slice from a DataFrame\n",
      "\n",
      "See the caveats in the documentation: https://pandas.pydata.org/pandas-docs/stable/user_guide/indexing.html#returning-a-view-versus-a-copy\n",
      "  mushsub['gill-color'].mask(mushsub['gill-color']=='o',6, inplace=True)\n",
      "C:\\Users\\Sarah Bill\\AppData\\Local\\Temp\\ipykernel_69308\\415363905.py:38: SettingWithCopyWarning: \n",
      "A value is trying to be set on a copy of a slice from a DataFrame\n",
      "\n",
      "See the caveats in the documentation: https://pandas.pydata.org/pandas-docs/stable/user_guide/indexing.html#returning-a-view-versus-a-copy\n",
      "  mushsub['gill-color'].mask(mushsub['gill-color']=='p',7, inplace=True)\n",
      "C:\\Users\\Sarah Bill\\AppData\\Local\\Temp\\ipykernel_69308\\415363905.py:39: SettingWithCopyWarning: \n",
      "A value is trying to be set on a copy of a slice from a DataFrame\n",
      "\n",
      "See the caveats in the documentation: https://pandas.pydata.org/pandas-docs/stable/user_guide/indexing.html#returning-a-view-versus-a-copy\n",
      "  mushsub['gill-color'].mask(mushsub['gill-color']=='u',8, inplace=True)\n",
      "C:\\Users\\Sarah Bill\\AppData\\Local\\Temp\\ipykernel_69308\\415363905.py:40: SettingWithCopyWarning: \n",
      "A value is trying to be set on a copy of a slice from a DataFrame\n",
      "\n",
      "See the caveats in the documentation: https://pandas.pydata.org/pandas-docs/stable/user_guide/indexing.html#returning-a-view-versus-a-copy\n",
      "  mushsub['gill-color'].mask(mushsub['gill-color']=='e',9, inplace=True)\n",
      "C:\\Users\\Sarah Bill\\AppData\\Local\\Temp\\ipykernel_69308\\415363905.py:41: SettingWithCopyWarning: \n",
      "A value is trying to be set on a copy of a slice from a DataFrame\n",
      "\n",
      "See the caveats in the documentation: https://pandas.pydata.org/pandas-docs/stable/user_guide/indexing.html#returning-a-view-versus-a-copy\n",
      "  mushsub['gill-color'].mask(mushsub['gill-color']=='w',10, inplace=True)\n",
      "C:\\Users\\Sarah Bill\\AppData\\Local\\Temp\\ipykernel_69308\\415363905.py:42: SettingWithCopyWarning: \n",
      "A value is trying to be set on a copy of a slice from a DataFrame\n",
      "\n",
      "See the caveats in the documentation: https://pandas.pydata.org/pandas-docs/stable/user_guide/indexing.html#returning-a-view-versus-a-copy\n",
      "  mushsub['gill-color'].mask(mushsub['gill-color']=='y',11, inplace=True)\n"
     ]
    },
    {
     "name": "stdout",
     "output_type": "stream",
     "text": [
      "     edibility odor gill-color\n",
      "0            1    7          0\n",
      "1            0    0          0\n",
      "2            0    1          1\n",
      "3            1    7          1\n",
      "4            0    6          0\n",
      "...        ...  ...        ...\n",
      "8119         0    6         11\n",
      "8120         0    6         11\n",
      "8121         0    6          1\n",
      "8122         1    3          2\n",
      "8123         0    6         11\n",
      "\n",
      "[8124 rows x 3 columns]\n"
     ]
    },
    {
     "data": {
      "text/plain": [
       "'\\nALPHA-TO-NUMERIC MAPPING\\n\\nedibility: \\nedible=e=1,\\npoisonous=p=2\\n\\nodor: \\nalmond=a=1,\\nanise=l=2,\\ncreosote=c=3,\\nfishy=y=4,\\nfoul=f=5, \\nmusty=m=6,\\nnone=n=7,\\npungent=p=8,\\nspicy=s=9\\n\\ngill-color: \\nblack=k=1,\\nbrown=n=2,\\nbuff=b=3,\\nchocolate=h=4,\\ngray=g=5, \\ngreen=r=6,\\norange=o=7,\\npink=p=8,\\npurple=u=9,\\nred=e=10, \\nwhite=w=11,\\nyellow=y=12\\n'"
      ]
     },
     "execution_count": 42,
     "metadata": {},
     "output_type": "execute_result"
    }
   ],
   "source": [
    "import pandas as pd\n",
    "\n",
    "#read in the data dictionary to use for column naming\n",
    "col = pd.read_csv('https://raw.githubusercontent.com/sarahbill33/dataacq/main/mushroomdatadict.csv', header=None)\n",
    "\n",
    "#isolate column names\n",
    "colnames = col.iloc[:,1]\n",
    "colnames = colnames.str.strip()\n",
    "\n",
    "#read in mushrooms data\n",
    "mushrooms = pd.read_csv('https://raw.githubusercontent.com/sarahbill33/dataacq/main/mushroomdata.csv', header=None)\n",
    "\n",
    "#assign column names from isolated series\n",
    "mushrooms = mushrooms.rename(columns=colnames)\n",
    "\n",
    "#create subset for 3 selected columns\n",
    "mushsub = mushrooms[['edibility', 'odor', 'gill-color']]\n",
    "\n",
    "#replace alpha characters with numeric using data dictionary mapping\n",
    "mushsub['edibility'].mask(mushsub['edibility']=='e',0, inplace=True)\n",
    "mushsub['edibility'].mask(mushsub['edibility']=='p',1, inplace=True)\n",
    "mushsub['odor'].mask(mushsub['odor']=='a',0, inplace=True)\n",
    "mushsub['odor'].mask(mushsub['odor']=='l',1, inplace=True)\n",
    "mushsub['odor'].mask(mushsub['odor']=='c',2, inplace=True)\n",
    "mushsub['odor'].mask(mushsub['odor']=='y',3, inplace=True)\n",
    "mushsub['odor'].mask(mushsub['odor']=='f',4, inplace=True)\n",
    "mushsub['odor'].mask(mushsub['odor']=='m',5, inplace=True)\n",
    "mushsub['odor'].mask(mushsub['odor']=='n',6, inplace=True)\n",
    "mushsub['odor'].mask(mushsub['odor']=='p',7, inplace=True)\n",
    "mushsub['odor'].mask(mushsub['odor']=='s',8, inplace=True)\n",
    "mushsub['gill-color'].mask(mushsub['gill-color']=='k',0, inplace=True)\n",
    "mushsub['gill-color'].mask(mushsub['gill-color']=='n',1, inplace=True)\n",
    "mushsub['gill-color'].mask(mushsub['gill-color']=='b',2, inplace=True)\n",
    "mushsub['gill-color'].mask(mushsub['gill-color']=='h',3, inplace=True)\n",
    "mushsub['gill-color'].mask(mushsub['gill-color']=='g',4, inplace=True)\n",
    "mushsub['gill-color'].mask(mushsub['gill-color']=='r',5, inplace=True)\n",
    "mushsub['gill-color'].mask(mushsub['gill-color']=='o',6, inplace=True)\n",
    "mushsub['gill-color'].mask(mushsub['gill-color']=='p',7, inplace=True)\n",
    "mushsub['gill-color'].mask(mushsub['gill-color']=='u',8, inplace=True)\n",
    "mushsub['gill-color'].mask(mushsub['gill-color']=='e',9, inplace=True)\n",
    "mushsub['gill-color'].mask(mushsub['gill-color']=='w',10, inplace=True)\n",
    "mushsub['gill-color'].mask(mushsub['gill-color']=='y',11, inplace=True)\n",
    "\n",
    "print(mushsub)\n"
   ]
  },
  {
   "cell_type": "markdown",
   "id": "25e7cc41",
   "metadata": {},
   "source": [
    "#### Next, do exploratory analysis (distribution, scatterplots)"
   ]
  },
  {
   "cell_type": "code",
   "execution_count": 43,
   "id": "5b9630ae",
   "metadata": {},
   "outputs": [
    {
     "data": {
      "text/plain": [
       "<seaborn.axisgrid.FacetGrid at 0x1fc52f6fa60>"
      ]
     },
     "execution_count": 43,
     "metadata": {},
     "output_type": "execute_result"
    },
    {
     "data": {
      "image/png": "[encoded data removed]",
      "text/plain": [
       "<Figure size 360x360 with 1 Axes>"
      ]
     },
     "metadata": {
      "needs_background": "light"
     },
     "output_type": "display_data"
    },
    {
     "data": {
      "image/png": "[encoded data removed]",
      "text/plain": [
       "<Figure size 360x360 with 1 Axes>"
      ]
     },
     "metadata": {
      "needs_background": "light"
     },
     "output_type": "display_data"
    },
    {
     "data": {
      "image/png": "[encoded data removed]",
      "text/plain": [
       "<Figure size 360x360 with 1 Axes>"
      ]
     },
     "metadata": {
      "needs_background": "light"
     },
     "output_type": "display_data"
    }
   ],
   "source": [
    "import seaborn as sns\n",
    "\n",
    "mushsub_ed = mushsub['edibility']\n",
    "sns.displot(mushsub_ed, bins=[0,1,2,3])\n",
    "\n",
    "mushsub_od = mushsub['odor']\n",
    "sns.displot(mushsub_od, bins=[0,1,2,3,4,5,6,7,8,9,10])\n",
    "\n",
    "mushsub_co = mushsub['gill-color']\n",
    "sns.displot(mushsub_co, bins=[0,1,2,3,4,5,6,7,8,9,10,11,12,13])"
   ]
  },
  {
   "cell_type": "code",
   "execution_count": 69,
   "id": "6661d0eb",
   "metadata": {},
   "outputs": [
    {
     "data": {
      "image/png": "[encoded data removed]",
      "text/plain": [
       "<Figure size 432x288 with 9 Axes>"
      ]
     },
     "metadata": {
      "needs_background": "light"
     },
     "output_type": "display_data"
    },
    {
     "data": {
      "image/png": "[encoded data removed]",
      "text/plain": [
       "<Figure size 432x288 with 4 Axes>"
      ]
     },
     "metadata": {
      "needs_background": "light"
     },
     "output_type": "display_data"
    },
    {
     "data": {
      "image/png": "[encoded data removed]",
      "text/plain": [
       "<Figure size 432x288 with 4 Axes>"
      ]
     },
     "metadata": {
      "needs_background": "light"
     },
     "output_type": "display_data"
    }
   ],
   "source": [
    "import matplotlib.pyplot as plt\n",
    "from pandas.plotting import scatter_matrix\n",
    "\n",
    "\n",
    "#make sure mushsub is formatted as df with numeric columns\n",
    "mushsub = pd.DataFrame(mushsub)\n",
    "mushsub['edibility'] = pd.to_numeric(mushsub['edibility'])\n",
    "mushsub['odor'] = pd.to_numeric(mushsub['odor'])\n",
    "mushsub['gill-color'] = pd.to_numeric(mushsub['gill-color'])\n",
    "\n",
    "mushsub1 = pd.DataFrame(mushsub[['edibility', 'odor']])\n",
    "mushsub1['edibility'] = pd.to_numeric(mushsub1['edibility'])\n",
    "mushsub1['odor'] = pd.to_numeric(mushsub1['odor'])\n",
    "\n",
    "mushsub2 = pd.DataFrame(mushsub[['edibility', 'gill-color']])\n",
    "mushsub2['edibility'] = pd.to_numeric(mushsub2['edibility'])\n",
    "mushsub2['gill-color'] = pd.to_numeric(mushsub2['gill-color'])\n",
    "\n",
    "#plot the scatter matrix\n",
    "pd.plotting.scatter_matrix(mushsub)\n",
    "plt.show()\n",
    "\n",
    "pd.plotting.scatter_matrix(mushsub1)\n",
    "plt.show()\n",
    "\n",
    "pd.plotting.scatter_matrix(mushsub2)\n",
    "plt.show()\n"
   ]
  },
  {
   "cell_type": "markdown",
   "id": "4d7d15f4",
   "metadata": {},
   "source": [
    "#### Preliminary Conclusions\n",
    "\n",
    "It appears that the following may be true:\n",
    "- Odors 0 and 1 are generally associated with edible mushrooms\n",
    "- Odors 2, 3, 4, 5, 7, and 8 are generally associated with poisonous mushrooms\n",
    "- Gill colors 6 and 9 are generally associated with edible mushrooms\n",
    "- Gill colors 3 and 5 are generally associated with poisonous mushrooms"
   ]
  }
 ],
 "metadata": {
  "kernelspec": {
   "display_name": "Python 3 (ipykernel)",
   "language": "python",
   "name": "python3"
  },
  "language_info": {
   "codemirror_mode": {
    "name": "ipython",
    "version": 3
   },
   "file_extension": ".py",
   "mimetype": "text/x-python",
   "name": "python",
   "nbconvert_exporter": "python",
   "pygments_lexer": "ipython3",
   "version": "3.9.12"
  }
 },
 "nbformat": 4,
 "nbformat_minor": 5
}
