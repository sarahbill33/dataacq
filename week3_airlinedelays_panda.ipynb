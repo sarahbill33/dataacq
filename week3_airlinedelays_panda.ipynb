{
 "cells": [
  {
   "cell_type": "markdown",
   "id": "751bf043",
   "metadata": {},
   "source": [
    "# Analyzing arrival delays between two airports using a .csv data file and pandas operations"
   ]
  },
  {
   "cell_type": "markdown",
   "id": "a91edcce",
   "metadata": {},
   "source": [
    "## First, import numpy and pandas into namespaces."
   ]
  },
  {
   "cell_type": "code",
   "execution_count": 1,
   "id": "04e9378a",
   "metadata": {},
   "outputs": [],
   "source": [
    "import numpy as np\n",
    "import pandas as pd"
   ]
  },
  {
   "cell_type": "markdown",
   "id": "872713f2",
   "metadata": {},
   "source": [
    "## Then, import the .csv file with airline arrival delay data."
   ]
  },
  {
   "cell_type": "code",
   "execution_count": 4,
   "id": "caee58bf",
   "metadata": {},
   "outputs": [],
   "source": [
    "df = pd.read_csv('week3_arrivaldelays_project.csv')"
   ]
  },
  {
   "cell_type": "code",
   "execution_count": 5,
   "id": "a9d1ee8b",
   "metadata": {},
   "outputs": [
    {
     "data": {
      "text/html": [
       "<div>\n",
       "<style scoped>\n",
       "    .dataframe tbody tr th:only-of-type {\n",
       "        vertical-align: middle;\n",
       "    }\n",
       "\n",
       "    .dataframe tbody tr th {\n",
       "        vertical-align: top;\n",
       "    }\n",
       "\n",
       "    .dataframe thead th {\n",
       "        text-align: right;\n",
       "    }\n",
       "</style>\n",
       "<table border=\"1\" class=\"dataframe\">\n",
       "  <thead>\n",
       "    <tr style=\"text-align: right;\">\n",
       "      <th></th>\n",
       "      <th>airline</th>\n",
       "      <th>arrival_city</th>\n",
       "      <th>ontime_count</th>\n",
       "      <th>delayed_count</th>\n",
       "    </tr>\n",
       "  </thead>\n",
       "  <tbody>\n",
       "    <tr>\n",
       "      <th>0</th>\n",
       "      <td>alaska</td>\n",
       "      <td>los angeles</td>\n",
       "      <td>497</td>\n",
       "      <td>62</td>\n",
       "    </tr>\n",
       "    <tr>\n",
       "      <th>1</th>\n",
       "      <td>alaska</td>\n",
       "      <td>phoenix</td>\n",
       "      <td>221</td>\n",
       "      <td>12</td>\n",
       "    </tr>\n",
       "    <tr>\n",
       "      <th>2</th>\n",
       "      <td>alaska</td>\n",
       "      <td>san diego</td>\n",
       "      <td>212</td>\n",
       "      <td>20</td>\n",
       "    </tr>\n",
       "    <tr>\n",
       "      <th>3</th>\n",
       "      <td>alaska</td>\n",
       "      <td>san francisco</td>\n",
       "      <td>503</td>\n",
       "      <td>102</td>\n",
       "    </tr>\n",
       "    <tr>\n",
       "      <th>4</th>\n",
       "      <td>alaska</td>\n",
       "      <td>seattle</td>\n",
       "      <td>1841</td>\n",
       "      <td>305</td>\n",
       "    </tr>\n",
       "    <tr>\n",
       "      <th>5</th>\n",
       "      <td>amwest</td>\n",
       "      <td>los angeles</td>\n",
       "      <td>694</td>\n",
       "      <td>117</td>\n",
       "    </tr>\n",
       "    <tr>\n",
       "      <th>6</th>\n",
       "      <td>amwest</td>\n",
       "      <td>phoenix</td>\n",
       "      <td>4840</td>\n",
       "      <td>415</td>\n",
       "    </tr>\n",
       "    <tr>\n",
       "      <th>7</th>\n",
       "      <td>amwest</td>\n",
       "      <td>san diego</td>\n",
       "      <td>383</td>\n",
       "      <td>65</td>\n",
       "    </tr>\n",
       "    <tr>\n",
       "      <th>8</th>\n",
       "      <td>amwest</td>\n",
       "      <td>san francisco</td>\n",
       "      <td>320</td>\n",
       "      <td>129</td>\n",
       "    </tr>\n",
       "    <tr>\n",
       "      <th>9</th>\n",
       "      <td>amwest</td>\n",
       "      <td>seattle</td>\n",
       "      <td>201</td>\n",
       "      <td>61</td>\n",
       "    </tr>\n",
       "  </tbody>\n",
       "</table>\n",
       "</div>"
      ],
      "text/plain": [
       "  airline   arrival_city  ontime_count  delayed_count\n",
       "0  alaska    los angeles           497             62\n",
       "1  alaska        phoenix           221             12\n",
       "2  alaska      san diego           212             20\n",
       "3  alaska  san francisco           503            102\n",
       "4  alaska        seattle          1841            305\n",
       "5  amwest    los angeles           694            117\n",
       "6  amwest        phoenix          4840            415\n",
       "7  amwest      san diego           383             65\n",
       "8  amwest  san francisco           320            129\n",
       "9  amwest        seattle           201             61"
      ]
     },
     "execution_count": 5,
     "metadata": {},
     "output_type": "execute_result"
    }
   ],
   "source": [
    "df"
   ]
  },
  {
   "cell_type": "markdown",
   "id": "87c7c9ad",
   "metadata": {},
   "source": [
    "## I want to add a column showing percent delayed for each series.\n",
    "### I will create a series composed of values from the data frame\n",
    "### Then I will add a column to the data frame called 'percent_late'"
   ]
  },
  {
   "cell_type": "code",
   "execution_count": 25,
   "id": "191aa90b",
   "metadata": {},
   "outputs": [],
   "source": [
    "s = (df['delayed_count'] / (df['delayed_count'] + df['ontime_count']))"
   ]
  },
  {
   "cell_type": "code",
   "execution_count": 26,
   "id": "8e5e9d29",
   "metadata": {},
   "outputs": [
    {
     "data": {
      "text/plain": [
       "0    0.110912\n",
       "1    0.051502\n",
       "2    0.086207\n",
       "3    0.168595\n",
       "4    0.142125\n",
       "5    0.144266\n",
       "6    0.078972\n",
       "7    0.145089\n",
       "8    0.287305\n",
       "9    0.232824\n",
       "dtype: float64"
      ]
     },
     "execution_count": 26,
     "metadata": {},
     "output_type": "execute_result"
    }
   ],
   "source": [
    "s"
   ]
  },
  {
   "cell_type": "code",
   "execution_count": 47,
   "id": "23a9b29b",
   "metadata": {},
   "outputs": [],
   "source": [
    "df['percent_late'] = s"
   ]
  },
  {
   "cell_type": "code",
   "execution_count": 48,
   "id": "d02d6a14",
   "metadata": {},
   "outputs": [
    {
     "data": {
      "text/html": [
       "<div>\n",
       "<style scoped>\n",
       "    .dataframe tbody tr th:only-of-type {\n",
       "        vertical-align: middle;\n",
       "    }\n",
       "\n",
       "    .dataframe tbody tr th {\n",
       "        vertical-align: top;\n",
       "    }\n",
       "\n",
       "    .dataframe thead th {\n",
       "        text-align: right;\n",
       "    }\n",
       "</style>\n",
       "<table border=\"1\" class=\"dataframe\">\n",
       "  <thead>\n",
       "    <tr style=\"text-align: right;\">\n",
       "      <th></th>\n",
       "      <th>airline</th>\n",
       "      <th>arrival_city</th>\n",
       "      <th>ontime_count</th>\n",
       "      <th>delayed_count</th>\n",
       "      <th>percent_late</th>\n",
       "    </tr>\n",
       "  </thead>\n",
       "  <tbody>\n",
       "    <tr>\n",
       "      <th>0</th>\n",
       "      <td>alaska</td>\n",
       "      <td>los angeles</td>\n",
       "      <td>497</td>\n",
       "      <td>62</td>\n",
       "      <td>0.110912</td>\n",
       "    </tr>\n",
       "    <tr>\n",
       "      <th>1</th>\n",
       "      <td>alaska</td>\n",
       "      <td>phoenix</td>\n",
       "      <td>221</td>\n",
       "      <td>12</td>\n",
       "      <td>0.051502</td>\n",
       "    </tr>\n",
       "    <tr>\n",
       "      <th>2</th>\n",
       "      <td>alaska</td>\n",
       "      <td>san diego</td>\n",
       "      <td>212</td>\n",
       "      <td>20</td>\n",
       "      <td>0.086207</td>\n",
       "    </tr>\n",
       "    <tr>\n",
       "      <th>3</th>\n",
       "      <td>alaska</td>\n",
       "      <td>san francisco</td>\n",
       "      <td>503</td>\n",
       "      <td>102</td>\n",
       "      <td>0.168595</td>\n",
       "    </tr>\n",
       "    <tr>\n",
       "      <th>4</th>\n",
       "      <td>alaska</td>\n",
       "      <td>seattle</td>\n",
       "      <td>1841</td>\n",
       "      <td>305</td>\n",
       "      <td>0.142125</td>\n",
       "    </tr>\n",
       "    <tr>\n",
       "      <th>5</th>\n",
       "      <td>amwest</td>\n",
       "      <td>los angeles</td>\n",
       "      <td>694</td>\n",
       "      <td>117</td>\n",
       "      <td>0.144266</td>\n",
       "    </tr>\n",
       "    <tr>\n",
       "      <th>6</th>\n",
       "      <td>amwest</td>\n",
       "      <td>phoenix</td>\n",
       "      <td>4840</td>\n",
       "      <td>415</td>\n",
       "      <td>0.078972</td>\n",
       "    </tr>\n",
       "    <tr>\n",
       "      <th>7</th>\n",
       "      <td>amwest</td>\n",
       "      <td>san diego</td>\n",
       "      <td>383</td>\n",
       "      <td>65</td>\n",
       "      <td>0.145089</td>\n",
       "    </tr>\n",
       "    <tr>\n",
       "      <th>8</th>\n",
       "      <td>amwest</td>\n",
       "      <td>san francisco</td>\n",
       "      <td>320</td>\n",
       "      <td>129</td>\n",
       "      <td>0.287305</td>\n",
       "    </tr>\n",
       "    <tr>\n",
       "      <th>9</th>\n",
       "      <td>amwest</td>\n",
       "      <td>seattle</td>\n",
       "      <td>201</td>\n",
       "      <td>61</td>\n",
       "      <td>0.232824</td>\n",
       "    </tr>\n",
       "  </tbody>\n",
       "</table>\n",
       "</div>"
      ],
      "text/plain": [
       "  airline   arrival_city  ontime_count  delayed_count  percent_late\n",
       "0  alaska    los angeles           497             62      0.110912\n",
       "1  alaska        phoenix           221             12      0.051502\n",
       "2  alaska      san diego           212             20      0.086207\n",
       "3  alaska  san francisco           503            102      0.168595\n",
       "4  alaska        seattle          1841            305      0.142125\n",
       "5  amwest    los angeles           694            117      0.144266\n",
       "6  amwest        phoenix          4840            415      0.078972\n",
       "7  amwest      san diego           383             65      0.145089\n",
       "8  amwest  san francisco           320            129      0.287305\n",
       "9  amwest        seattle           201             61      0.232824"
      ]
     },
     "execution_count": 48,
     "metadata": {},
     "output_type": "execute_result"
    }
   ],
   "source": [
    "df"
   ]
  },
  {
   "cell_type": "markdown",
   "id": "d1e9005c",
   "metadata": {},
   "source": [
    "## Now I want to find the airline and arrival city which had the highest percent late."
   ]
  },
  {
   "cell_type": "code",
   "execution_count": 82,
   "id": "c6a6c882",
   "metadata": {},
   "outputs": [
    {
     "data": {
      "text/plain": [
       "airline                amwest\n",
       "arrival_city    san francisco\n",
       "Name: 8, dtype: object"
      ]
     },
     "execution_count": 82,
     "metadata": {},
     "output_type": "execute_result"
    }
   ],
   "source": [
    "df.loc[df['percent_late'].idxmax(), ['airline', 'arrival_city']]"
   ]
  },
  {
   "cell_type": "markdown",
   "id": "cf383878",
   "metadata": {},
   "source": [
    "## We can see that amwest to san francisco had the highest percent late flights."
   ]
  }
 ],
 "metadata": {
  "kernelspec": {
   "display_name": "Python 3 (ipykernel)",
   "language": "python",
   "name": "python3"
  },
  "language_info": {
   "codemirror_mode": {
    "name": "ipython",
    "version": 3
   },
   "file_extension": ".py",
   "mimetype": "text/x-python",
   "name": "python",
   "nbconvert_exporter": "python",
   "pygments_lexer": "ipython3",
   "version": "3.9.12"
  }
 },
 "nbformat": 4,
 "nbformat_minor": 5
}
